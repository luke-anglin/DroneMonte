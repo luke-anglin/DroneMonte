{
 "cells": [
  {
   "cell_type": "markdown",
   "metadata": {},
   "source": [
    "# Drones!"
   ]
  },
  {
   "cell_type": "markdown",
   "metadata": {},
   "source": [
    "## Section 3"
   ]
  },
  {
   "cell_type": "markdown",
   "metadata": {
    "slideshow": {
     "slide_type": "fragment"
    }
   },
   "source": [
    "### Graph Function $f_x$"
   ]
  },
  {
   "cell_type": "markdown",
   "metadata": {},
   "source": [
    "$f_x(x) = \\alpha^2xe^{\\frac{-1}{2}\\alpha^2x^2}$, only when $x > 0$"
   ]
  },
  {
   "cell_type": "markdown",
   "metadata": {},
   "source": [
    "Additionally, we know that $\\alpha = \\frac{1}{\\tau}$ and $\\tau = 57$ inches."
   ]
  },
  {
   "cell_type": "code",
   "execution_count": 2,
   "metadata": {},
   "outputs": [
    {
     "name": "stdout",
     "output_type": "stream",
     "text": [
      "In decimal form, alpha is equal to 0.017543859649122806\n"
     ]
    }
   ],
   "source": [
    "tau = 57\n",
    "alpha = 1/tau\n",
    "print(f\"In decimal form, alpha is equal to {alpha}\")"
   ]
  },
  {
   "cell_type": "markdown",
   "metadata": {},
   "source": [
    "That is all we need in order to graph $f_x$ and $F_x$"
   ]
  },
  {
   "cell_type": "markdown",
   "metadata": {},
   "source": [
    "![PDF of x](fx_graph1.PNG)"
   ]
  },
  {
   "cell_type": "markdown",
   "metadata": {},
   "source": [
    "### Graph Function $F_x$"
   ]
  },
  {
   "cell_type": "markdown",
   "metadata": {},
   "source": [
    "![bigfofx](./Fx_graph2.PNG)"
   ]
  },
  {
   "cell_type": "markdown",
   "metadata": {},
   "source": [
    "This looks similar to the graph of $f_x$, and goes on for quite a while!"
   ]
  },
  {
   "cell_type": "markdown",
   "metadata": {},
   "source": [
    "### Graph Three Circles"
   ]
  },
  {
   "cell_type": "markdown",
   "metadata": {},
   "source": [
    "These were solved by graphing, setting $F_x = 0.5, 0.7, 0.9$ respectively. \n",
    "\n",
    "$$\n",
    "P[X <= 67.112] = 0.5 \\\\ \n",
    "P[X <= 88.45] = 0.7 \\\\ \n",
    "P[X <= 122.32] = 0.9 \\\\ \n",
    "$$"
   ]
  },
  {
   "cell_type": "markdown",
   "metadata": {},
   "source": [
    "From top to bottom: "
   ]
  },
  {
   "cell_type": "markdown",
   "metadata": {},
   "source": [
    "![circle_fun](assets/circle1.png)"
   ]
  },
  {
   "cell_type": "markdown",
   "metadata": {},
   "source": [
    "![circle_fun](assets/circle2.png)"
   ]
  },
  {
   "cell_type": "markdown",
   "metadata": {},
   "source": [
    "![circle_fun](assets/circle3.png)"
   ]
  },
  {
   "cell_type": "markdown",
   "metadata": {},
   "source": [
    "## Section 4.2"
   ]
  },
  {
   "cell_type": "markdown",
   "metadata": {},
   "source": [
    "### Random Number Generator - $u_{51}, u_{52}, u_{53}$"
   ]
  },
  {
   "cell_type": "code",
   "execution_count": 3,
   "metadata": {
    "code_folding": []
   },
   "outputs": [],
   "source": [
    "import numpy as np\n",
    "import sys\n",
    "import pprint as pprint\n",
    "from numpy.random import normal\n",
    "from matplotlib import pyplot\n",
    "pyplot.style.use('seaborn')\n",
    "# Parameters\n",
    "mean = (1/alpha)*(np.sqrt(np.pi/2))\n",
    "stdev = np.sqrt((4-np.pi)/(2*pow(alpha,2)))\n",
    "\n",
    "# Increase rec limit\n",
    "sys.setrecursionlimit(10000)\n",
    "# Define params\n",
    "a = 24693\n",
    "c = 3967\n",
    "K = pow(2, 18)\n",
    "n = 1000\n",
    "\n",
    "# Write recursive function\n",
    "\n",
    "\n",
    "def rng(x):\n",
    "    # Check if this is the seed\n",
    "    if (x == 0):\n",
    "        return 1000\n",
    "\n",
    "    else:\n",
    "        return (a * rng(x-1) + c) % K"
   ]
  },
  {
   "cell_type": "markdown",
   "metadata": {},
   "source": [
    "Therefore, I used Python to compute: \n",
    "\n",
    "$$\n",
    "u_{51} = 0.19949722290039062 \\\\\n",
    "u_{52} = 0.2000579833984375 \\\\\n",
    "u_{53} = 0.046916961669921875\n",
    "$$ "
   ]
  },
  {
   "cell_type": "markdown",
   "metadata": {},
   "source": [
    "### Estimates of $m_n$"
   ]
  },
  {
   "cell_type": "code",
   "execution_count": 4,
   "metadata": {
    "code_folding": []
   },
   "outputs": [
    {
     "data": {
      "text/plain": [
       "<AxesSubplot:>"
      ]
     },
     "execution_count": 4,
     "metadata": {},
     "output_type": "execute_result"
    },
    {
     "data": {
      "image/png": "[encoded data removed]",
      "text/plain": [
       "<Figure size 576x396 with 1 Axes>"
      ]
     },
     "metadata": {},
     "output_type": "display_data"
    }
   ],
   "source": [
    "runs = [10, 30, 50,100, 250, 500, 1000]\n",
    "import seaborn as sns \n",
    "np.random.seed(1000)\n",
    "\n",
    "def calc_means(samp_sizes, estimates):\n",
    "    # 10, 30, . .. 1000 \n",
    "    # Initialize an empty dictionary which maps sample sizes to arrays of sample means\n",
    "    sample_means = {new_list: [] for new_list in samp_sizes}\n",
    "    for ss in samp_sizes:\n",
    "        # 1, 2, 3 . . . 110 \n",
    "        for estimate in range(estimates): \n",
    "            sample = np.random.normal(loc = mean, scale = stdev, size = (ss))\n",
    "            sample_means[ss].append(round(sample.mean(), 4))\n",
    "    return sample_means\n",
    "\n",
    "# Holds our dict containing sample means \n",
    "data = calc_means(runs, 110)\n",
    "# Plot the data\n",
    "for ss, s_mu in data.items(): \n",
    "    sns.scatterplot(x=ss, y=s_mu)\n",
    "# Plot a line ux  \n",
    "x2 = np.linspace(0, 1000, 10000)\n",
    "y2 = [mean] * len(x2) \n",
    "sns.lineplot(x=x2, y=y2)"
   ]
  },
  {
   "cell_type": "markdown",
   "metadata": {
    "code_folding": []
   },
   "source": [
    "### More graphs showing Variance "
   ]
  },
  {
   "cell_type": "code",
   "execution_count": 5,
   "metadata": {
    "code_folding": [],
    "scrolled": true
   },
   "outputs": [
    {
     "data": {
      "image/png": "[encoded data removed]",
      "text/plain": [
       "<Figure size 576x396 with 7 Axes>"
      ]
     },
     "metadata": {},
     "output_type": "display_data"
    }
   ],
   "source": [
    "for run in range(len(runs)):\n",
    "\tsample = normal(mean, stdev, runs[run])\n",
    "\tpyplot.subplot(2, 4, run+1)\n",
    "\tpyplot.hist(sample, bins=20)\n",
    "\tpyplot.title('%d Samples' % runs[run])\n",
    "\tpyplot.xticks([])\n",
    "pyplot.show()"
   ]
  },
  {
   "cell_type": "markdown",
   "metadata": {},
   "source": [
    "### Interpretation of Estimates of $m_n$"
   ]
  },
  {
   "cell_type": "markdown",
   "metadata": {},
   "source": [
    "According to the weak law of large numbers, as more samples are generated, the sample mean $M_n$ will eventually converge to the population mean $u_x$. In this case, the graph shown a few cells above shows that the sample mean dots gradually draw closer and closer to the line of $u_x$, showing that they are **converging** to that value. Therefore, the graph a few cells above demonstrates the **weak law of large numbers**. "
   ]
  },
  {
   "cell_type": "markdown",
   "metadata": {},
   "source": [
    "![Weak law of large numbers](https://wikimedia.org/api/rest_v1/media/math/render/svg/e3848a0ff097c73716a0bfc4df59c18691b2a323)"
   ]
  },
  {
   "cell_type": "markdown",
   "metadata": {},
   "source": [
    "### Recommend $n*$"
   ]
  },
  {
   "cell_type": "markdown",
   "metadata": {},
   "source": [
    "Now, we know that $u_x \\approx 71.4389$, and we're looking for some amount of trials, $n*$, such that the sample mean, $M_{n*}$ will give us\n",
    "\n",
    "$$\n",
    "P[    | M_{n*} - 71.4389 | < 10 ] = 1\n",
    "$$"
   ]
  },
  {
   "cell_type": "markdown",
   "metadata": {},
   "source": [
    "Additionally, the CDF can be modeled by the following function"
   ]
  },
  {
   "cell_type": "code",
   "execution_count": 6,
   "metadata": {},
   "outputs": [
    {
     "data": {
      "text/latex": [
       "$\\displaystyle 1 - e^{- 0.00015389350569406 x^{2}}$"
      ],
      "text/plain": [
       "1 - exp(-0.00015389350569406*x**2)"
      ]
     },
     "execution_count": 6,
     "metadata": {},
     "output_type": "execute_result"
    }
   ],
   "source": [
    "from sympy import * \n",
    "x = symbols('x')\n",
    "cdf = 1-exp(Rational(-1, 2)*alpha**2*x**2)\n",
    "cdf"
   ]
  },
  {
   "cell_type": "code",
   "execution_count": 7,
   "metadata": {},
   "outputs": [
    {
     "name": "stdout",
     "output_type": "stream",
     "text": [
      "The sample size is 35\n"
     ]
    }
   ],
   "source": [
    "np.random.seed(a)\n",
    "def meanfunc(num):\n",
    "    sumn = 0\n",
    "    for t in num:\n",
    "        sumn = sumn + t\n",
    "\n",
    "    avg = sumn / len(num)\n",
    "    return avg\n",
    "def find_val():\n",
    "    samp_sizes = range(10, 300)\n",
    "    estimates = 100\n",
    "    # 10, 30, . .. 1000 \n",
    "    # Initialize an empty dictionary which maps sample sizes to arrays of sample means\n",
    "    sample_means = {new_list: [] for new_list in samp_sizes}\n",
    "    for ss in samp_sizes:\n",
    "        # 1, 2, 3 . . . 110 \n",
    "        for estimate in range(estimates): \n",
    "            sample = np.random.normal(loc = mean, scale = stdev, size = (ss))\n",
    "            sample_means[ss].append(round(sample.mean(), 4))\n",
    "    count = 0\n",
    "    for sample_size, samples in sample_means.items(): \n",
    "        results = []\n",
    "        for s_mu in samples:\n",
    "            if s_mu < 81.489 and s_mu > 61.4389: \n",
    "                results.append(s_mu)\n",
    "                if (count == 110):\n",
    "                    print(f\"The sample size is {sample_size}\")\n",
    "                    return\n",
    "                else: \n",
    "                    count+=1 \n",
    "            else: \n",
    "                break\n",
    "find_val()"
   ]
  },
  {
   "cell_type": "markdown",
   "metadata": {},
   "source": [
    "When we have 35 trials, the sample mean is within the desired range. Considering that the central limit theorem is traditionally used when we have at least 30 trials, this is reasonable. "
   ]
  },
  {
   "cell_type": "markdown",
   "metadata": {},
   "source": [
    "**The recommended $n*$ is 35**"
   ]
  },
  {
   "cell_type": "markdown",
   "metadata": {},
   "source": [
    "### Estimation for $p$"
   ]
  },
  {
   "cell_type": "code",
   "execution_count": null,
   "metadata": {},
   "outputs": [],
   "source": []
  },
  {
   "cell_type": "markdown",
   "metadata": {},
   "source": [
    "## Section 5.2 - Perform Analyses"
   ]
  },
  {
   "cell_type": "code",
   "execution_count": 8,
   "metadata": {},
   "outputs": [
    {
     "name": "stdout",
     "output_type": "stream",
     "text": [
      "mean:  [70.84593963636364, 71.36249963636367, 71.21532872727279, 71.21068909090906]\n",
      "variance:  [298.1502250605746, 143.78979397079988, 83.12217111699293, 46.65483654162643]\n",
      "zn(k) values:  {70.203: -0.03723510899918937, 70.9342: 0.005111497369948172, 57.0751: -0.7975223269332704, 78.5752: 0.4476312173734754, 80.4339: 0.5552756884597935, 81.723: 0.6299324311710289, 66.4854: -0.25253563394162054, 75.2595: 0.2556062683333375, 86.4861: 0.9057818852148452, 50.6428: -1.1700415776830009, 87.996: 0.993226005779343, 70.1565: -0.03992810297643947, 58.729: -0.701738612116645, 77.4943: 0.3850321380184416, 43.2891: -1.5959226488765546, 93.2342: 1.296590329470284, 74.0428: 0.1851424882877553, 92.5189: 1.2551645532998192, 50.7099: -1.1661555584169054, 105.3151: 1.9962417475295196, 60.5876: -0.5940999324152241, 79.5573: 0.5045084084499661, 85.1428: 0.8279862118892676, 27.5989: -2.5046025220344332, 45.104: -1.4908148043752585, 81.4787: 0.6157840778668986, 69.1538: -0.09799831934177554, 74.9865: 0.2397957875636789, 43.3209: -1.5940809884792095, 74.182: 0.19320409606481226, 65.6662: -0.2999786590203914, 76.1038: 0.30450293102133386, 65.1353: -0.3307251214402152, 35.439: -2.0505521547003593, 50.8851: -1.1560090520768165, 68.9211: -0.11147487199781854, 77.8173: 0.40373831123675635, 66.0636: -0.2769636954384783, 74.5362: 0.21371718137108708, 62.1986: -0.5008007217195453, 68.9709: -0.10859076231895742, 55.489: -0.8893794827895192, 59.6426: -0.6488285196948124, 38.9672: -1.8462205127534355, 108.818: 2.199108169097424, 67.9718: -0.1664524888279908, 48.7399: -1.2802458408939306, 85.9354: 0.8738887285853544, 56.0373: -0.857625319397563, 64.7163: -0.3549910241599478, 57.9897: -0.7445543206624647, 86.6045: 0.9126388849332618, 55.1215: -0.9106628222871368, 71.9912: 0.06632643573452476, 37.1749: -1.950019504267939, 50.9467: -1.1524415589800732, 80.3353: 0.5495653829510455, 76.9923: 0.35595938583394104, 45.7681: -1.4523542172722168, 90.9782: 1.1659366861869498, 80.0106: 0.5307607561894765, 75.5225: 0.2708376106132647, 55.4369: -0.8923967943210179, 65.1917: -0.32745878035813203, 79.1386: 0.48025987988492524, 63.691: -0.4143700935120768, 74.4305: 0.20759568753462948, 69.2994: -0.08956606293129073, 63.1518: -0.4455972408783774, 92.4586: 1.251672348206741, 48.0529: -1.3200326551384565, 67.6488: -0.18515866204630552, 67.7428: -0.17971476024283276, 76.0305: 0.30025784589160476, 103.4359: 1.8874100425392528, 77.9951: 0.4140353935841746, 70.3095: -0.031067284083553418, 80.0782: 0.5346757323800586, 90.1515: 1.1180593072408802, 74.1701: 0.19251492126203243, 68.9494: -0.10983591007187946, 97.1455: 1.5231087669588061, 77.7186: 0.39802221434311, 96.4667: 1.48379684627586, 91.0532: 1.170280224859933, 90.96: 1.1648826541356387, 57.8214: -0.7543012214446392, 98.3192: 1.5910822514985443, 72.1713: 0.07675671993458151, 68.1715: -0.1548870931880613, 78.9175: 0.4674551278769712, 66.1852: -0.26992137140334815, 75.1699: 0.2504171874653467, 72.1519: 0.07563319126450292, 38.3875: -1.8797931710031466, 72.6492: 0.1044337483588299, 77.0208: 0.3576099305296743, 58.2567: -0.7290913229866444, 58.2274: -0.7307881987615564, 88.4425: 1.0190845393458363, 83.144: 0.7122280105618175, 107.8939: 2.1455899812613737, 88.8488: 1.0426149361836106, 36.2453: -2.0038562182733415, 54.8958: -0.9237339780003673, 84.6887: 0.8016875330705788, 99.985: 1.68755514111795, 72.6786: 0.10613641551863987, 94.1869: 1.3517648533869648, 65.1928: -0.3273950751242612, 80.8914: 0.5817712743649915, 64.4748: -0.3689772186869538, 59.3008: -0.668623473273821, 70.7576: -0.0051160883587033626, 69.6819: -0.06741401569907685, 48.632: -1.2864947451981292, 90.9224: 1.16270509341425, 73.6858: 0.16446724420435535, 86.023: 0.8789619817553985, 87.7242: 0.977485021628452, 75.337: 0.2600945916287535, 85.1606: 0.8290170784009894, 86.36: 0.8984789488593364, 65.3182: -0.32013267846303334, 75.4936: 0.26916390037794224, 64.539: -0.3652591495828802, 86.0885: 0.8827553388631372, 68.5148: -0.1350052688355929, 82.6962: 0.6862941889916592, 70.1643: -0.039476374954449035, 63.4515: -0.42824046034113644, 69.9792: -0.05019622839937106, 66.9027: -0.22836818476514223, 44.8976: -1.5027682228033084, 55.9222: -0.8642912034143683, 58.7417: -0.7010031062346864, 101.9863: 1.8034581270678336, 80.4831: 0.5581250498292704, 60.8481: -0.5790133747577291, 62.7277: -0.47015850422787314, 73.1193: 0.1316590487610887, 39.0296: -1.8426066885775132, 81.8222: 0.6356774849891611, 57.8132: -0.7547761150062183, 70.1352: -0.041161667959566495, 80.6572: 0.5682078509354893, 47.169: -1.371222706245788, 63.0494: -0.4515276190132239, 53.9367: -0.9792791505504763, 41.3175: -1.7101055935119365, 62.5438: -0.48080886105402804, 60.774: -0.5833047909666366, 81.754: 0.6317277604891957, 51.0468: -1.146644382697865, 70.3913: -0.026329931237553013, 72.9259: 0.12045851036968953, 44.8133: -1.5076503602717415, 102.2118: 1.8165177000112693, 76.7933: 0.34443452988829243, 76.7752: 0.3433862892218789, 61.5083: -0.5407786516656826, 94.9982: 1.3987503590588486, 50.9184: -1.154080520906012, 80.7652: 0.5744625466245845, 81.5628: 0.6206546325655365, 81.6341: 0.6247838899973197, 56.1089: -0.8534786878110886, 80.8939: 0.5819160589874242, 77.823: 0.4040684201759025, 62.8585: -0.4625833727821904, 41.8042: -1.6819189232167242, 75.6762: 0.2797389692004316, 58.2732: -0.7281357444785881, 80.433: 0.5552235659957184, 79.7628: 0.5164097044139401, 57.5284: -0.7712699791937601, 53.3345: -1.0141548704020829, 94.4042: 1.364349532768822, 74.0453: 0.18528727291018796, 49.8954: -1.2133263884055028, 65.0858: -0.3335918569643838, 93.0118: 1.2837102894586643, 96.9176: 1.5099102007778342, 84.4526: 0.7880140733280282, 65.5674: -0.30570054729893437, 38.5565: -1.8700057305266913, 81.6994: 0.6285656643352634, 93.7421: 1.326004773363726, 87.7095: 0.9766336880485478, 88.8986: 1.0454990458624718, 51.5599: -1.1169287867897626, 65.9054: -0.2861256663460238, 68.0579: -0.16146610643140596, 85.1343: 0.8274939441729963, 54.2055: -0.9637119079465046, 82.2607: 0.6610727077638697, 84.7864: 0.8073457161152519, 88.4363: 1.0187254734822033, 68.0883: -0.15970552542262345, 75.3542: 0.2610907098310911, 80.4581: 0.5566772036049432, 74.5465: 0.21431369401551015, 52.7546: -1.0477391114215886, 66.7891: -0.23494719800848693, 53.9449: -0.9788042569888972, 72.9639: 0.1226592366306675, 51.0614: -1.1457988405028574, 74.1053: 0.18876210384857464, 104.6433: 1.9573352237893846, 72.8849: 0.11808404256179224, 96.1415: 1.4649632625898041, 74.2678: 0.19817310430670457, 85.7777: 0.8647557146022947, 92.5131: 1.2548286529757746, 104.8447: 1.968999072972569, 70.9301: 0.004874050589157949, 120.9456: 2.9014641639037033, 61.5202: -0.5400894768629023, 78.8018: 0.46075449555078224, 37.2612: -1.9450215391015595, 50.5314: -1.1764931804586054, 43.6735: -1.5736605653312914, 65.4351: -0.3133625495180768, 63.925: -0.40081825285236955, 73.2437: 0.13886353157334397, 125.3151: 3.1545187269917045, 79.0587: 0.47563256335197407, 86.8779: 0.9284725312425096, 50.0579: -1.2039153879473727, 68.4342: -0.13967312506282495, 64.5467: -0.3648132129457873, 76.7823: 0.34379747754958845, 64.7866: -0.35091968057713807, 104.8944: 1.9718773912665328, 70.913: 0.0038837237717178263, 67.8271: -0.1748326227743997, 76.6981: 0.33892113146605213, 97.6055: 1.549749137486437, 72.4544: 0.093152130578869, 61.4974: -0.5414099126194895, 76.7194: 0.3401546964491791, 37.2818: -1.9438285138127138, 64.6241: -0.3603306810352688, 90.6545: 1.147189973274354, 80.9398: 0.5845743046552901, 87.8584: 0.9852570601606436, 55.044: -0.9151511455825527, 70.1067: -0.04281221265529976, 98.5983: 1.607246006746939, 71.1711: 0.01883128819167726, 48.2562: -1.3082587696422234, 78.9785: 0.47098787266433045, 79.5491: 0.5040335148883865, 48.4572: -1.2966180859986285, 87.9823: 0.9924325860484113, 46.4139: -1.4149534536053827, 58.2536: -0.7292708559184612, 61.1905: -0.5591836728693366, 85.4988: 0.848603542123695, 81.0645: 0.5917961616222362, 47.5003: -1.3520358480809966, 50.509: -1.177790450675603, 65.9647: -0.28269137510191883, 38.0401: -1.8999124421364046, 70.2174: -0.0364011495739769, 58.1807: -0.7334927755086007, 74.3962: 0.20560924251485174, 86.404: 0.9010271582141531, 79.3175: 0.4906206674662144, 63.8487: -0.40523707952901755, 44.4677: -1.527665386476848, 87.0296: 0.9372580621317306, 73.0116: 0.12542172722668515, 73.5083: 0.15418753601162877, 68.7106: -0.12366573720665781, 53.3876: -1.0110796450216109, 65.9578: -0.28309098065983257, 74.0537: 0.1857737492415626, 65.3591: -0.3177640020400335, 69.5611: -0.07441000865502859, 73.0791: 0.12933091203236977, 97.5607: 1.547154597052441, 83.5609: 0.7363722941987066, 34.6056: -2.0988175564345486, 66.6081: -0.24542960467262037, 55.3284: -0.8986804469346001, 74.2454: 0.19687583408970746, 71.4084: 0.03257424455299635, 64.6468: -0.3590160366635792, 69.5552: -0.07475170036396976, 62.8114: -0.4653111150688239, 88.5282: 1.0240477562028318, 28.2178: -2.468759640904976, 64.7206: -0.3547419946093634, 56.0098: -0.8592179502443238, 49.1849: -1.254474178100897, 122.1108: 2.9689453807271704, 91.5312: 1.197963044669079, 91.5999: 1.201941726093532, 59.7492: -0.6426549033942789, 64.3436: -0.37657551567222614, 49.937: -1.2109171722882217, 78.481: 0.44217573280020844, 108.2918: 2.1686339017677736, 125.2656: 3.151651991467536, 82.2118: 0.6582407205490846, 83.8218: 0.7514820173957903, 54.358: -0.9548800459781057, 88.116: 1.0001756676561164, 83.8643: 0.7539433559771478, 75.0826: 0.2453613084499943, 72.5076: 0.09623314734423781, 85.4551: 0.8460727069235701, 51.2734: -1.1335211045205582, 61.1952: -0.5589114777791631, 93.4687: 1.310171127054478, 102.0181: 1.8052997874651786, 93.4163: 1.3071364413682875, 82.8749: 0.6966433938031533, 55.7133: -0.8763894064648508, 42.5536: -1.638518284796276, 60.9879: -0.5709170186712883, 45.212: -1.4845601086861624, 74.6902: 0.2226359141129465, 74.3376: 0.20221549096502764, 58.8266: -0.6960862204568696, 98.1489: 1.5812195230184238, 53.9261: -0.9798930373495915, 95.4525: 1.4250606206473324, 89.5312: 1.0821353467228605, 77.544: 0.3879104563124052, 68.4933: -0.13625041658851414, 61.6712: -0.5313444856679631, 73.1731: 0.13477481383584253, 74.3473: 0.20277725530006732, 93.5994: 1.3177404671152637, 72.9922: 0.12429819855660658, 77.7386: 0.3991804913225728, 70.2289: -0.035735140310786256, 46.9689: -1.3828112674253072, 81.4699: 0.6152744359959348, 85.9434: 0.874352039377139, 73.3114: 0.1427842991488236, 73.2746: 0.1406530695066132, 23.7145: -2.7295630769855785, 63.67: -0.41558628434051215, 82.736: 0.6885991601807888, 75.489: 0.26889749667266616, 70.509: -0.019513471213418097, 81.9847: 0.6450884854472918, 34.9878: -2.076682883357026, 47.7508: -1.337528428913233, 80.9739: 0.5865491669052728, 69.1411: -0.09873382522373457, 61.6395: -0.5331803546804107, 67.6428: -0.18550614514014419, 49.2263: -1.2520765447534101, 63.5372: -0.42327724348414125, 61.0704: -0.566139126131007, 68.1127: -0.15829242750767958, 81.7276: 0.630198834876305, 63.1132: -0.44783271544873954, 71.5329: 0.039784518750148316, 80.9843: 0.5871514709345934, 95.7007: 1.439434837962458, 68.8195: -0.1173589190534859, 95.3974: 1.4218695675689144, 55.384: -0.8954604369316954, 74.448: 0.2086091798916588, 101.4456: 1.7721441089280732, 43.6987: -1.5722011363371688, 67.7018: -0.18208922805073005, 72.1725: 0.07682621655334908, 76.5927: 0.33281701178428624, 104.3483: 1.9402506383423173, 78.5743: 0.4475790949093995, 52.6035: -1.0564898940014258, 73.5036: 0.15391534092145517, 87.8624: 0.9854887155565355, 76.398: 0.321541185389222, 46.5571: -1.4066601904324336, 59.1924: -0.6749013345025062, 74.0106: 0.18327766235082102, 100.7041: 1.7292009899145127, 57.2519: -0.7872831584348248, 82.8277: 0.6939098601316224, 83.5216: 0.7340962799340636, 109.9193: 2.2628886909715096, 64.3616: -0.37553306639071016, 51.3484: -1.1291775658475751, 76.1078: 0.3047345864172258, 62.8449: -0.46337100112822455, 44.2166: -1.5422075539539957, 37.7706: -1.9155202244346576, 87.7438: 0.9786201330683247, 68.4161: -0.14072136572923843, 75.1391: 0.24863344091697495, 34.8044: -2.0873042832586943, 63.2326: -0.4409178018813503, 44.2785: -1.53862268670256, 51.7902: -1.1035912273712556, 85.2771: 0.8357640418063568, 103.2912: 1.879029908592844, 79.6045: 0.5072419421214971, 76.7364: 0.34113923188172257, 59.2782: -0.6699323262606135, 64.7242: -0.35453350475306067, 45.1228: -1.4897260240145642, 49.7832: -1.2198243222602856, 62.2761: -0.4963123984241292, 94.9835: 1.3978990254789445, 56.386: -0.8374307602606398, 66.4705: -0.25339855029131975, 81.527: 0.6185813167722995, 61.9816: -0.5133680269467099, 85.8208: 0.8672518014930364, 49.4861: -1.2370305267901964, 76.7059: 0.3393728594880425, 85.9934: 0.8772477318257943, 61.9413: -0.5157019550603262, 82.2947: 0.6630417786289559, 99.8206: 1.6780341043467708, 53.1413: -1.0253438260236876, 105.6157: 2.0136506505308365, 90.4829: 1.1372519567905686, 52.3008: -1.0740204160855857, 59.162: -0.6766619155112887, 33.089: -2.186649699787166, 81.0104: 0.5886630223927916, 66.3865: -0.2582633136050611, 86.2258: 0.8907069103271457, 64.3515: -0.3761179962653382, 43.4873: -1.5844441240100844, 74.7732: 0.22744276357771448, 99.9223: 1.6839239427873365, 83.3993: 0.7270134162046518, 94.4848: 1.3690173889960549, 80.7461: 0.5733563921091984, 82.002: 0.6460903950345261, 56.7851: -0.8143173431354721, 84.2485: 0.7761938567526168, 75.4065: 0.26411960413238406, 73.7465: 0.16798261483702293, 67.4577: -0.1962259985850662, 49.8178: -1.2178205030858162, 82.3689: 0.66733898622276, 72.5632: 0.09945315734714259, 84.1961: 0.7731591710664255, 67.0179: -0.22169650936343996, 61.4877: -0.5419716769545287, 89.4196: 1.0756721611774618, 53.4608: -1.0068403512767792, 117.7609: 2.717025929079043, 54.7179: -0.9340368517326835, 83.2619: 0.7190560533557466, 56.1712: -0.8498706550200639, 82.5372: 0.6770858870049344, 72.8695: 0.11719216928760638, 67.5142: -0.19295386611808554, 75.3503: 0.2608648458200959, 78.8301: 0.4623934574767213, 100.5933: 1.7227841354482922, 82.5224: 0.6762287620401327, 81.9832: 0.6450016146738318, 57.4138: -0.7779069062860782, 69.5551: -0.07475749174886726, 65.6065: -0.30343611580408636, 54.4426: -0.9499805343549805, 74.4142: 0.20665169179636775, 98.8422: 1.621371194511481, 49.5952: -1.2307121258672302, 63.1126: -0.4478674637581233, 59.1077: -0.6798066375105285, 83.3938: 0.7266948900352999, 103.4686: 1.889303825400673, 36.199: -2.006537629480796, 50.895: -1.1554357049719826, 80.5934: 0.5645129473710049, 57.0544: -0.7987211436070137, 51.5787: -1.115840006429068, 42.5185: -1.6405510608952323, 71.5362: 0.03997563445175934, 78.3462: 0.4343689459586334, 94.834: 1.3892409050574643, 65.2499: -0.32408819434789715, 78.5586: 0.44666984748052196, 48.7051: -1.2822612428381948, 63.6894: -0.41446275567043395, 60.4875: -0.5998971086974326, 73.2708: 0.14043299688051467, 82.8122: 0.6930121954725398, 88.4863: 1.0216211659308587, 67.2234: -0.20979521339946597, 85.4359: 0.8449607610232864, 38.8442: -1.8533439161771277, 67.2999: -0.20536480395302334, 74.7758: 0.22759333958504463, 73.4146: 0.1487610083628477, 60.0549: -0.6249506397631993, 97.8614: 1.5645692914386553, 70.0018: -0.04888737541257896, 66.3988: -0.25755097326269205, 87.0407: 0.937900905855332, 31.7337: -2.2651403393004212, 49.2863: -1.2486017138150238, 55.9353: -0.8635325319928204, 75.7756: 0.28549560578835886, 85.0127: 0.8204516201378661, 36.794: -1.9720788893417964, 69.844: -0.058026180780536105, 70.652: -0.011231790810263436, 89.7269: 1.0934690869668982, 59.7167: -0.6445371034859049, 68.8092: -0.11795543169790897, 76.4618: 0.32523608895370637, 56.8141: -0.8126378415152518, 57.756: -0.7580887871674803, 40.0191: -1.7853009350186215, 35.9253: -2.022388649944736, 56.8217: -0.8121976962630563, 63.2655: -0.43901243625013475, 61.6044: -0.5352131307793668, 76.8976: 0.3504749443361874, 73.5733: 0.15795193619488074, 70.4211: -0.024604098538154675, 89.1646: 1.0609041296893182, 69.7408: -0.06400288999456104, 88.4494: 1.0194841449037508, 76.9567: 0.35389765281049823, 46.4282: -1.4141252855650674, 53.3542: -1.0130139675773127, 56.4825: -0.8318420738347349, 52.9068: -1.0389246236078817, 61.4761: -0.5426434776026164, 47.8791: -1.330098082089983, 35.1261: -2.0686733980440453, 47.0829: -1.3762090886423723, 30.2716: -2.349816177884004, 86.9112: 0.930401062413314, 59.3615: -0.6651081026411535, 69.3441: -0.08697731388219322, 85.9335: 0.8737786922723051, 85.5847: 0.8535783417504847, 95.6065: 1.433979353389191, 62.7241: -0.47036699408417626, 84.5915: 0.7960583069503926, 89.4644: 1.0782667016114567, 78.7507: 0.45779509786825606, 91.1956: 1.1785271569537035, 72.4338: 0.09195910529002285, 75.7207: 0.28231613547973494, 68.5979: -0.13019262798592746, 65.4935: -0.3099803807380477, 62.8731: -0.46173783058718293, 62.2638: -0.4970247387664983, 58.5805: -0.7103388186891517, 61.3694: -0.5488228852880475, 81.062: 0.5916513769998036, 74.4651: 0.20959950670909974, 81.2486: 0.6024581012181857, 59.4123: -0.6621660791133194, 79.3462: 0.49228279493174265, 83.0614: 0.7074443266366387, 76.4064: 0.3220276617205966, 66.6478: -0.24313042486838732, 69.3852: -0.08459705468939843, 70.4385: -0.023596397566022043, 46.8976: -1.3869405248570899, 79.4449: 0.49799889182538903, 40.7259: -1.7443674265644278, 60.3612: -0.6072116278227363, 59.8771: -0.6352477221106184, 77.0406: 0.3587566247393421, 66.7737: -0.23583907128267279, 60.5959: -0.5936192474687474, 85.1323: 0.8273781164750503, 75.0836: 0.24541922229896768, 72.177: 0.07708682887372849, 60.8938: -0.5763667118596582, 71.9933: 0.06644805481736822, 61.8478: -0.521116899939312, 71.6277: 0.04527475163279945, 74.6138: 0.21821129605140058, 66.4099: -0.2569081295390906, 85.4582: 0.8462522398553869, 56.2695: -0.8441777236660072, 76.8219: 0.3460908659689232, 66.4054: -0.2571687418594692, 80.4691: 0.5573142559436471, 89.2664: 1.0667997595147816, 65.0418: -0.3361400663192013, 69.8028: -0.06041223135822758, 81.9392: 0.6424534053190152, 61.1871: -0.5593805799558451, 67.4586: -0.19617387612099033, 65.803: -0.29205604448087036, 53.6811: -0.9940819303480031, 65.4106: -0.31478143881791815, 53.5956: -0.9990335644352042, 59.8111: -0.6390700361428433, 80.8787: 0.5810357684830325, 72.4691: 0.09400346415877316, 78.3275: 0.43328595698283656, 71.2253: 0.02197021880602028, 73.3102: 0.1427148025300552, 68.9817: -0.10796529275004765, 82.017: 0.6469591027691228, 79.7719: 0.5169367204395956, 60.1882: -0.6172307236950839, 79.4354: 0.4974487102601443, 86.1249: 0.8848634029657584, 82.8071: 0.692716834842777, 70.3834: -0.02678745064444095, 73.0421: 0.1271880996203652, 71.0154: 0.009814101906564383, 44.8733: -1.5041755293333547, 77.769: 0.4009410723313553, 85.2737: 0.8355671347198482, 79.1243: 0.47943171184461025, 66.1921: -0.26952176584543364, 74.9242: 0.23618775477265375, 83.5877: 0.7379243853511857, 60.0283: -0.6264911481458841, 77.7328: 0.3988445909985283, 86.2428: 0.8916914457596883, 65.4481: -0.3126096694814269, 96.6137: 1.4923101820749065, 59.0044: -0.6857891381094509, 79.8639: 0.5222647945451216, 78.3546: 0.43485542229000806, 82.5037: 0.675145773064335, 68.1216: -0.15777699425181907, 69.3048: -0.08925332814683626, 57.9523: -0.7467202986140589, 78.3637: 0.43538243831566276, 65.1422: -0.33032551588230064, 93.4112: 1.306841080738524, 70.8197: -0.001519638337473224, 62.3374: -0.49276227948207746, 89.1606: 1.0606724742934264, 56.3134: -0.8416353056960876, 79.9496: 0.5272280114021173, 69.9371: -0.05263440144113924, 92.6159: 1.2607821966502104, 58.0636: -0.7402744872233519, 59.4985: -0.6571739053318375, 69.0414: -0.10450783596635348, 72.9331: 0.12087549008229577, 87.7998: 0.9818633086108195, 74.8873: 0.23405073374554586, 75.3206: 0.25914480450559424, 68.4734: -0.1374029021830794, 88.4787: 1.0211810206786633, 51.6693: -1.1105930117121043, 61.3006: -0.5528073580973971, 72.6808: 0.10626382598638083, 73.4902: 0.15313929534521525, 53.3555: -1.0129386795736475, 60.7804: -0.5829341423332087, 56.2157: -0.8472934887407606, 63.0688: -0.4504040903431453, 84.4365: 0.7870816603595606, 54.1721: -0.9656462305022065, 72.5415: 0.09819642682442638, 80.1294: 0.5376409214474823, 80.1212: 0.5371660278859026, 69.3569: -0.08623601661533752, 64.0966: -0.3908802363685841, 72.2336: 0.08036475272560582, 58.0658: -0.7401470767556109, 73.7675: 0.16919880566545825, 73.3259: 0.14362404995893355, 65.8359: -0.29015067884965523, 78.3041: 0.43193077291686605, 79.0189: 0.47332759216284437, 57.8784: -0.7510001320531717, 59.0685: -0.6820768603902744, 52.8389: -1.0428569739531557, 87.5916: 0.9698056452546179, 65.7183: -0.29696134748889264, 68.0613: -0.16126919934489745, 51.0793: -1.1447621826062386, 65.8874: -0.2871681156275398, 94.6943: 1.3811503403559209, 73.9484: 0.1796754209446942, 60.4818: -0.6002272176365792, 48.9277: -1.2693696200567806, 65.206: -0.32663061231781626, 56.8524: -0.8104197410995817, 64.1481: -0.3878976731464687, 80.7663: 0.5745262518584554, 64.0612: -0.39293038662223195, 92.4689: 1.2522688608511638, 79.31: 0.49018631359891646, 59.297: -0.6688435458999191, 67.5834: -0.18894622776914666, 66.6246: -0.24447402616456362, 56.1471: -0.8512663787803156, 88.2295: 1.0067488895145644, 75.8345: 0.2889067314928755, 82.815: 0.6931743542496641, 66.1014: -0.27477455194729455, 70.0709: -0.04488552844853759, 90.0399: 1.1115961216954813, 62.3301: -0.49318505057958123, 65.5084: -0.30911746438834853, 95.1424: 1.4071015360807708, 45.8883: -1.445392972625649, 90.4722: 1.1366322786065564, 84.7146: 0.8031875017589828, 74.2478: 0.1970148273272426, 85.6833: 0.8592886472592336, 57.2686: -0.7863159971569738, 82.372: 0.6675185191545768, 62.171: -0.502399143951203, 72.8394: 0.11544896243351553, 72.3484: 0.08701326258771891, 72.138: 0.07482818876377714, 62.2414: -0.49832200898349616, 78.9032: 0.4666269598366554, 68.7059: -0.12393793229683141, 64.3529: -0.37603691687677565, 71.646: 0.046334575069007136, 67.8538: -0.1732863230068174, 76.3934: 0.3212747816839459, 67.2531: -0.20807517208496432, 86.9639: 0.933453122254197, 82.9576: 0.7014328691132296, 84.841: 0.8105078122691832, 65.9718: -0.2822801867742093, 54.102: -0.9697059913152216, 46.5827: -1.4051775958987216, 63.8611: -0.404518947801751, 79.782: 0.5175216503142237, 81.0739: 0.5923405518025834, 74.1937: 0.1938816880977979, 77.738: 0.39914574301318856, 64.0526: -0.39342844572340074, 74.9948: 0.24027647251015521, 100.8638: 1.7384498315955181, 72.1317: 0.07446333151524596, 60.2053: -0.6162403968776438, 68.5938: -0.13043007476671684, 64.7621: -0.3523385698769794, 63.8141: -0.407240898703487, 70.2454: -0.0347795618027295, 78.4455: 0.44011979116166317, 70.6815: -0.009523332265556786, 94.6869: 1.3807217778735195, 82.6371: 0.6828714805173484, 60.7919: -0.582268133070018, 57.4024: -0.7785671241643717, 61.2021: -0.5585118722212484, 75.427: 0.26530683803633354, 70.1118: -0.042516852025536976, 56.6208: -0.8238325885217538, 64.5138: -0.36671857857700246, 94.1898: 1.3519328035489875, 95.3036: 1.4164372485352366, 81.0318: 0.5899023787608161, 65.4196: -0.31426021417716016, 99.7275: 1.6726423250073748, 57.3056: -0.7841731847449688, 64.6062: -0.36136733893188727, 80.1594: 0.5393783369166756, 58.703: -0.7032443721899457, 70.5509: -0.01708688094144492, 67.7513: -0.17922249252656144, 91.5066: 1.196538363984341, 62.337: -0.49278544502166666, 81.9182: 0.6412372144905798, 65.6373: -0.30165236925571465, 74.7116: 0.22387527048097103, 85.3983: 0.8427832003018977, 53.3773: -1.0116761576660338, 82.5196: 0.6760666032630076, 68.2771: -0.1487713907365004, 103.9642: 1.9180059289517466, 81.9057: 0.6405132913784157, 74.7802: 0.2278481605205257, 79.7252: 0.5142321436925513, 75.2512: 0.25512558338686037, 69.2608: -0.09180153750165289, 76.5793: 0.33204096620804713, 84.3285: 0.7808269646704654, 59.3756: -0.6642915173706326, 88.1027: 0.999405413464774, 69.8634: -0.05690265211045752, 74.7501: 0.22610495366643568, 78.1314: 0.42192905119920976, 75.0487: 0.24339802896980572, 47.8178: -1.3336482010320347, 55.6686: -0.8789781555139486, 51.8427: -1.1005507503001672, 75.2242: 0.25356190946458634, 69.72: -0.06520749805320138, 73.6229: 0.16082446310394682, 62.0806: -0.5076345558983723, 72.1228: 0.07394789825938547, 68.452: -0.13864225855110393, 69.2357: -0.09325517511087845, 55.8528: -0.8683104245331017, 75.8453: 0.28953220106178446, 81.3673: 0.609332475091294, 66.0207: -0.27944819955942407, 79.1902: 0.4832482344919381, 80.3666: 0.5513780864239038, 84.795: 0.8078437752164206, 74.245: 0.1968526685501183, 69.5394: -0.07566673917774482, 61.2054: -0.5583207565196374, 39.0437: -1.8417901033069923, 64.4622: -0.3697069331840153, 57.4392: -0.7764358945221613, 61.447: -0.5443287706077339, 90.3113: 1.1273139403067833, 63.728: -0.4122272811000718, 83.852: 0.7532310156347788, 82.1902: 0.6569897814112658, 85.7669: 0.8641302450333858, 75.5771: 0.2739997067671969, 69.7861: -0.06137939263607852, 65.9435: -0.28391914870014834, 58.2595: -0.7289291642095197, 85.3307: 0.8388682241113148, 59.8907: -0.6344600937645839, 64.635: -0.3596994200814615, 61.557: -0.537958247220692, 80.781: 0.5753775854383604, 29.0633: -2.419793481598212, 81.0146: 0.5889062605584784, 64.1871: -0.3856390330365174, 71.7836: 0.05430352068770733, 68.7543: -0.12113490200653287, 90.0843: 1.1141674965898871, 77.3923: 0.3791249254231851, 68.9106: -0.1120829674120358, 62.7613: -0.4682125989023767, 62.3333: -0.4929997262628673, 57.311: -0.783860449960514, 89.7122: 1.092617753386993, 81.1581: 0.5972168978861198, 75.7731: 0.28535082116592625, 66.3116: -0.26260106089314694, 72.2945: 0.0838917061280684, 57.4034: -0.7785092103153988, 84.4091: 0.7854948208976974, 64.2339: -0.3829286649045756, 78.3451: 0.43430524072476334, 96.6825: 1.4962946548842568, 88.0074: 0.9938862236576369, 64.5606: -0.3640082104450615, 61.8606: -0.5203756026724562, 79.6455: 0.5096164099293944, 71.7326: 0.051349914390078646, 62.2006: -0.5006848940215989, 74.8394: 0.23127666037973402, 52.8722: -1.0409284427823513, 74.0494: 0.18552471969097817, 81.4682: 0.6151759824526805, 69.9278: -0.05317300023658893, 78.6288: 0.45073539967843423, 81.5624: 0.6206314670259474, 66.3813: -0.25856446561972135, 61.3627: -0.5492109080761673, 74.7853: 0.22814352115028932, 75.0689: 0.24456788871906268, 70.2802: -0.03276415985846588, 67.0671: -0.21884714799396304, 66.3646: -0.2595316268975723, 95.1335: 1.4065861028249103, 70.1611: -0.03966169927116255, 70.0591: -0.04556891186641992, 85.0787: 0.8242739341700915, 53.4276: -1.0087630910626864, 71.2525: 0.023545475498088473, 67.7603: -0.17870126788580346, 78.4329: 0.43939007666460245, 55.2938: -0.90068426610907, 58.6636: -0.7055261778394862, 68.4001: -0.1416479873128085, 67.889: -0.1712477555229646, 51.6326: -1.1127184499694176, 92.5171: 1.2550603083716674, 65.3267: -0.319640410746762, 60.5935: -0.5937582407062829, 77.7667: 0.40080787047871685, 74.7912: 0.22848521285923049, 66.3879: -0.2581822342164985, 73.0243: 0.12615723310864338, 103.6559: 1.9001510893133369, 71.3275: 0.02788901417107183, 99.2567: 1.645376484910834, 56.1236: -0.8526273542311836, 84.7873: 0.8073978385793277, 66.288: -0.2639678277289124, 70.4818: -0.021088727905486288, 47.0937: -1.3755836190734632, 72.8882: 0.11827515826340326, 91.8791: 1.2181112727268233, 77.2401: 0.3703104376094774, 64.711: -0.3552979675595056, 82.9801: 0.7027359307151242, 76.1236: 0.3056496252310008, 71.0242: 0.010323743777527379, 79.2991: 0.4895550526451092, 81.7501: 0.6315018964782004, 71.0956: 0.01445879259420803, 82.7743: 0.6908172605964585, 80.8176: 0.5774972323107758, 62.4569: -0.4858415745297912, 53.0291: -1.0318417598784704, 50.2046: -1.1954194263030176, 62.0869: -0.5072696986498415, 71.6577: 0.04701216710199279, 90.4379: 1.1346458335867786, 83.9367: 0.758136318642801, 57.9624: -0.7461353687394304, 63.2747: -0.43847962883958214, 78.5938: 0.4487084149643756, 65.6099: -0.3032392087175778, 72.3209: 0.08542063174095821, 57.6058: -0.7667874472832412, 48.8373: -1.2746050320039497, 84.234: 0.775354105942506, 70.76: -0.004977095121167401, 90.6184: 1.1450992833264246, 84.1538: 0.7707094152548631, 76.15: 0.30717855084389145, 88.7586: 1.0373911070062365, 64.9144: -0.3435182906783751, 62.4226: -0.48782801954956856, 43.8374: -1.5641684854845985, 58.2092: -0.731842230812867, 65.8829: -0.2874287279479184, 80.8916: 0.5817828571347857, 62.8451: -0.4633594183584299, 81.1348: 0.5958675052050459, 66.496: -0.2519217471425058, 58.9846: -0.6869358323191183, 67.4007: -0.19952708797653354, 75.4241: 0.2651388878743109, 91.9098: 1.2198892278902984, 74.5053: 0.21192764343781867, 63.7009: -0.41379674640724334, 77.9712: 0.41265125259371743, 61.9179: -0.5170571391262968, 54.0426: -0.9731460739442241, 64.5764: -0.3630931716312856, 52.6916: -1.0513876839068947, 65.5293: -0.30790706494480985, 84.9573: 0.8172431929047563, 76.4885: 0.32678238872128873, 75.8022: 0.2870361141710437, 57.6856: -0.7621659221351872, 87.6101: 0.9708770514606205, 75.1177: 0.2473940845489504, 84.6527: 0.7996026345075469, 70.7029: -0.008283975897532256, 67.2825: -0.20637250492515516, 82.6286: 0.682379212801077, 79.2025: 0.48396057483430716, 70.0546: -0.04582952418679933, 80.3043: 0.5477700536328788, 92.4173: 1.249280506244151, 85.0398: 0.8220210854450377, 63.8659: -0.4042409613266799, 67.3272: -0.20378375587605682, 86.399: 0.9007375889692878, 95.991: 1.4562472283193517, 88.5123: 1.0231269260041593, 81.0062: 0.5884197842271046, 44.1982: -1.543273168775101, 68.0354: -0.16276916803330138, 58.9556: -0.6886153339393386, 82.3907: 0.6686015081303737, 90.8975: 1.1612630385748193, 75.8592: 0.290337203562511, 77.432: 0.3814241052274173, 84.8769: 0.8125869194473185, 67.2386: -0.2089149228950743, 91.4245: 1.1917836369836479, 68.1769: -0.15457435840360598, 88.7705: 1.0380802818090162, 97.311: 1.5326935089638563, 68.8912: -0.11320649608211437, 72.8368: 0.11529838642618538, 69.3726: -0.08532676918645914, 60.8426: -0.5793319009270814, 83.3074: 0.7216911334840233, 51.4965: -1.1206005248146578, 53.2715: -1.0178034428873886, 72.7065: 0.10775221190498976, 89.3774: 1.073228196750796, 38.43: -1.8773318324217896, 102.6642: 1.8427179252867039, 73.7648: 0.1690424382732306, 58.8599: -0.6941576892860648, 66.5293: -0.2499932159717006, 64.0706: -0.39238599644188477, 67.4936: -0.1941468914069317, 68.9834: -0.1078668392067934, 43.6774: -1.5734347013202963, 50.6745: -1.1682057086705533, 81.5681: 0.6209615759650944, 72.3426: 0.08667736226367526, 79.5627: 0.5048211432344214, 62.7056: -0.47143840029017897, 76.7382: 0.3412434768098743, 64.1005: -0.3906543723575889, 65.7285: -0.29637062622936705, 70.7167: -0.007484764781703153, 79.3649: 0.4933657839075404, 51.9181: -1.0961840460875947, 86.4997: 0.9065695135608801, 64.5205: -0.3663305557888829, 65.0441: -0.3360068644665628, 83.1322: 0.7115446271439343, 76.6785: 0.33778602002617936, 75.1967: 0.2519692786178265, 79.2384: 0.48603968201244163, 60.4915: -0.5996654533015399, 102.7692: 1.8487988794288805, 58.7609: -0.6998911603344029, 79.451: 0.4983521663041244, 50.291: -1.190415669751741, 68.105: -0.15873836414477252, 73.5418: 0.1561276499522273, 77.4725: 0.3837696161108279, 62.4458: -0.48648441825339267, 74.8357: 0.2310623791385338, 74.0109: 0.18329503650551351, 65.7629: -0.2943783898246918, 82.5772: 0.6794024409638592, 81.1136: 0.5946397316068165, 64.0858: -0.39150570593749306, 71.9187: 0.062127681683974055, 78.0458: 0.4169716257271116, 54.4875: -0.947380202536088, 45.4616: -1.4701048119824747, 85.6935: 0.8598793685187592, 77.5888: 0.39050499674640105, 77.9923: 0.4138732348070503, 75.142: 0.24880139107899676, 54.1532: -0.9667408022477983, 66.0787: -0.27608919631898415, 45.5664: -1.4640354406100926, 99.2668: 1.645961414785463, 76.99: 0.3558261839813026, 85.3553: 0.8402929047960537, 74.7163: 0.22414746557114462, 68.701: -0.12422171015680002, 81.2263: 0.6011666223860853, 64.2167: -0.38392478310691325, 70.2338: -0.035451362450817654, 72.9287: 0.12062066914681469, 72.8548: 0.11634083570770139, 90.6835: 1.148869474894574, 76.2313: 0.3118869467654052, 41.6798: -1.689123406028979, 80.019: 0.5312472325208512, 72.2728: 0.08263497560535218, 60.1681: -0.6183947920594434, 61.8137: -0.5230917621892951, 52.5686: -1.058511087330587, 79.8744: 0.5228728899593389, 75.469: 0.2677392196932034, 89.4618: 1.0781161256041265, 63.6469: -0.41692409425179094, 83.4674: 0.7309573493197206, 68.8109: -0.1178569781546547, 64.8964: -0.34456073995989106, 72.9054: 0.11927127646574089, 61.6632: -0.5318077964597476, 61.89: -0.5186729355126467, 72.2475: 0.08116975522633244, 65.1145: -0.3319297294988555, 91.8703: 1.2176016308558604, 52.6055: -1.0563740663034795, 59.2529: -0.6713975466396332, 84.3489: 0.7820084071895166, 49.6162: -1.229495935038795, 70.0182: -0.04793758828942053, 74.8104: 0.22959715875951406, 76.4798: 0.3262785382352224, 64.0261: -0.3949631627211881, 77.7786: 0.4014970452814967, 63.7548: -0.4106751899475924, 54.0449: -0.9730128720915862, 81.9901: 0.6454012202317463, 73.3443: 0.14468966478003875, 67.3782: -0.20083014957842815, 63.1166: -0.447635808362231, 63.7968: -0.4082428082907221, 76.6635: 0.33691731229158267, 72.4636: 0.09368493798942118, 70.4476: -0.02306938154036736, 74.589: 0.2167750325968675, 56.0739: -0.8555056725251473, 77.143: 0.36468700287418865, 79.3616: 0.49317466820592853, 71.2517: 0.023499144418910094, 63.5777: -0.4209317326007302, 70.4791: -0.02124509529771394, 61.9335: -0.5161536830823164, 59.875: -0.6353693411934618, 72.7889: 0.11252431306037354, 75.9069: 0.2930996941585279, 73.9787: 0.18143021056857922, 66.5868: -0.2466631696557474, 77.4037: 0.3797851433014782, 69.7429: -0.06388127091171676, 70.2561: -0.03415988361871724, 91.1932: 1.1783881637161684, 68.408: -0.14119046790592057, 72.5547: 0.09896088963087128, 73.2794: 0.14093105598168346, 80.4561: 0.5565613759069972, 79.5421: 0.5036281179455753, 59.1905: -0.6750113708155551, 68.4871: -0.1366094824521478, 68.5781: -0.13133932219559438, 74.9871: 0.23983053587306227, 51.581: -1.1157068045764298, 59.6096: -0.650739676710925, 86.9278: 0.9313624323062683, 62.348: -0.49214839268296273, 82.4794: 0.6737384665342887, 82.504: 0.6751631472190276, 85.9533: 0.8749253864819729, 76.45: 0.32455270553582405, 80.6878: 0.569980014714066, 71.0724: 0.013115191298031735, 74.2525: 0.19728702241741622, 76.1591: 0.30770556686954614, 65.4126: -0.3146656111199722, 63.0666: -0.4505315008108863, 73.9045: 0.17713300297477425, 66.089: -0.27549268367456103, 69.7176: -0.06534649129073651, 63.2427: -0.4403328720067219, 68.4955: -0.1361230061207732, 69.9051: -0.05448764460827853, 65.1566: -0.32949155645708816, 69.5314: -0.07613004996952942, 82.0836: 0.6508161651107324, 73.982: 0.18162132627019026, 72.847: 0.11588910768571097, 76.3919: 0.32118791091048665, 68.4081: -0.14118467652102307, 52.6457: -1.0540459295747606, 72.6505: 0.10450903636249498, 70.7903: -0.003222305497282371, 70.4049: -0.025542302891518917, 74.0319: 0.18451122733394804, 59.2916: -0.6691562806843736, 78.9491: 0.4692852055045213, 69.5347: -0.07593893426791841, 52.421: -1.067059171439018, 67.0305: -0.2209667948663784, 80.6397: 0.56719435857846, 64.2155: -0.3839942797256808, 71.2519: 0.023510727188705102, 51.1465: -1.1408703719552458, 66.4575: -0.25415143032797044, 70.7815: -0.0037319473682461907, 77.7158: 0.3978600555659857, 74.8913: 0.2342823891414386, 65.8843: -0.2873476485593567, 53.82: -0.9860376967256382, 56.9611: -0.8041245057162048, 69.9559: -0.05154562108044485, 59.5869: -0.6520543210826146, 64.169: -0.3866872737029309, 76.624: 0.33462971525714463, 67.4119: -0.1988784528680346, 55.2094: -0.9055721949624002, 65.978: -0.2819211209105764, 75.4748: 0.26807512001724787, 82.2543: 0.6607020591304419, 74.5171: 0.212611026855701, 79.4156: 0.4963020160504765, 67.1475: -0.21419087453652522, 78.7182: 0.4559128977766301, 75.9956: 0.2982366525624428, 51.7838: -1.1039618760046834, 68.8324: -0.11661183040173267, 73.4608: 0.1514366281854061, 72.5537: 0.09890297578189872, 75.332: 0.2598050223838874, 70.371: -0.027505582371707478, 73.4206: 0.14910849145668637, 63.5339: -0.42346835918575226, 73.0793: 0.12934249480216478, 91.7821: 1.2124936293764321, 79.1017: 0.47812285885781736, 68.5824: -0.13109029264501, 57.6413: -0.7647315056446958, 67.7344: -0.1802012365742074, 68.9976: -0.1070444625513751, 69.4347: -0.081730319165229, 55.9303: -0.8638221012376857, 82.1729: 0.6559878718240307, 81.1935: 0.5992670481397676, 42.6637: -1.632141970024337, 65.2691: -0.3229762484476136, 56.9389: -0.805410193163408, 66.3747: -0.25894669702294343, 76.6398: 0.33554475407091966, 79.8269: 0.5201219821331162, 72.6636: 0.1052677077840432, 57.4787: -0.7741482974877233, 81.6799: 0.6274363442802882, 52.6656: -1.0528934439801958, 71.6609: 0.04719749141870631, 88.5628: 1.0260515753773014, 63.4794: -0.42662466395478693, 67.3446: -0.20277605490392503, 71.8838: 0.06010648835481211, 70.0136: -0.048203991994696625, 71.4472: 0.0348213018931527, 65.0594: -0.33512078257727446, 66.2518: -0.2660643090617386, 64.8192: -0.3490316891006154, 70.9327: 0.005024626596488094, 65.7419: -0.2955945806531271, 78.797: 0.46047650907571114, 62.0394: -0.5100206064760642, 58.0268: -0.7424057168655622, 83.5446: 0.7354282984604449, 82.0806: 0.6506424235638131, 76.3448: 0.3184601686238532, 74.5615: 0.2151824017501068, 64.7682: -0.3519852953982441, 68.1213: -0.15779436840651076, 67.7999: -0.17640787946646871, 70.0693: -0.04497819060689435, 62.8046: -0.4657049292418409, 52.6443: -1.0541270089633228, 67.2462: -0.20847477764287886, 76.5699: 0.33149657602769994, 65.3747: -0.3168605459960527, 73.1576: 0.13387714917675916, 72.4819: 0.09474476142562888, 79.1611: 0.48156294148682066, 85.779: 0.8648310026059598, 76.0676: 0.30240644968850683, 59.0914: -0.6807506332487903, 54.661: -0.9373321497392534, 77.9643: 0.4122516470358029, 70.6358: -0.012169995163627677, 78.989: 0.47159596807854853, 70.5878: -0.014949859914337026, 69.1606: -0.09760450516875849, 89.4565: 1.0778091822045697, 77.6591: 0.39457634032921, 75.3175: 0.2589652715737774, 88.0256: 0.9949402557089471, 70.2577: -0.03406722146036048, 71.8437: 0.0577841430109907, 81.6255: 0.624285830896151, 46.0701: -1.4348642348823377, 61.7015: -0.5295896960440776, 77.4148: 0.3804279870250797, 50.3718: -1.1857362307547135, 61.7839: -0.5248175948886934, 74.8173: 0.2299967643174286, 69.7457: -0.06371911213459244, 68.7235: -0.1229186485549046, 72.0657: 0.07064101748302143, 72.047: 0.06955802850722373, 65.5065: -0.309227500701397, 68.6814: -0.12535682159667277, 72.3741: 0.08850164850632784, 71.0588: 0.012327562951997639, 67.6398: -0.1856798866870635, 76.9506: 0.35354437833176205, 76.0762: 0.3029045087896757, 72.2947: 0.0839032888978634, 60.6134: -0.592605755111718, 75.8892: 0.2920746190317044, 59.8505: -0.6367882304933031, 69.0851: -0.10197700076622854, 66.1586: -0.27146187978603215, 79.1318: 0.47986606571190815, 59.7486: -0.6426896517036627, 58.1779: -0.7336549342857255, 96.3016: 1.474235269810399, 75.2664: 0.25600587389125207, 82.1076: 0.652206097486087, 59.1187: -0.6791695851718245, 59.3241: -0.6672740805927476, 80.2581: 0.5450944338103212, 67.1935: -0.2115268374837618, 63.8972: -0.4024282578538219, 64.9862: -0.339360076322106, 78.1949: 0.42560658060900247, 66.3937: -0.25784633389245487, 66.0733: -0.2764019311034386, 77.7489: 0.39977700396699584, 80.7225: 0.571989625273433, 63.5899: -0.4202251836432583, 80.3443: 0.5500866075918035, 72.6819: 0.10632753122025089, 72.1059: 0.07296915421174036, 59.8983: -0.6340199485123884, 62.8171: -0.4649810061296769, 81.8095: 0.6349419791072028, 66.6668: -0.24203006173789876, 69.5436: -0.0754235010120579, 71.6605: 0.047174325879117116, 62.5827: -0.47855601232897377, 60.6141: -0.5925652154174368, 80.2286: 0.5433859752656145, 72.0002: 0.06684766037528277, 78.169: 0.4241066119205985, 78.866: 0.4644725646548558, 66.9398: -0.22621958096823933, 60.609: -0.5928605760471996, 64.3069: -0.378700953929539, 70.7768: -0.004004142458419787, 65.6731: -0.2995790534624768, 65.1824: -0.32799737915358174, 62.8966: -0.460376855136315, 66.4918: -0.2521649853081927, 74.1038: 0.18867523307511538, 71.6095: 0.04422071958148843, 56.7951: -0.8137382046457411, 56.8831: -0.8086417859361075, 66.8331: -0.23239898865367029, 62.1291: -0.5048257342231762, 74.0149: 0.18352669190140541, 63.7962: -0.4082775566001059, 66.0504: -0.2777281582449232, 78.5864: 0.44827985248197433, 70.0699: -0.04494344229751015, 72.4025: 0.09014640181716443, 58.9665: -0.6879840729855313, 81.7734: 0.6328512891592734, 64.7903: -0.35070539933593786, 77.8742: 0.4070336092433262, 58.867: -0.6937465009583561, 76.3527: 0.3189176880307403, 66.3127: -0.26253735565927605, 69.516: -0.07702192324371529, 86.9563: 0.9330129770020015, 73.2571: 0.13963957714958306, 66.3217: -0.26201613101851806, 63.286: -0.4378252023461861, 64.7321: -0.35407598534617274, 65.8174: -0.29122208505565705, 51.574: -1.1161122015192417, 64.8813: -0.3454352390793852, 70.1899: -0.0379937804207376, 60.826: -0.5802932708200349, 65.3971: -0.3155632757790556, 85.6276: 0.8560628458714313, 85.9799: 0.8764658948646578, 70.8322: -0.0007957152253091939, 59.2945: -0.6689883305223517, 63.0807: -0.4497149155403655, 78.2396: 0.4281953296581, 74.1788: 0.19301877174809792, 77.0444: 0.3589766973654398, 57.3097: -0.783935737964179, 68.6476: -0.12731430969196383, 74.3759: 0.2044335913806981, 88.6009: 1.0282580930231768, 86.3192: 0.8961160638212333, 64.9433: -0.3418445804430526, 93.9666: 1.3390064324581892, 68.8118: -0.11780485569057883, 74.8855: 0.2339464888173941, 76.4518: 0.32465695046397586, 88.6206: 1.029398995847947, 75.1195: 0.24749832947710218, 73.6541: 0.16263137519190773, 87.7474: 0.9788286229246282, 79.7397: 0.5150718945026613, 76.9562: 0.35386869588601155, 70.6062: -0.01388424509323183, 64.6048: -0.3614484183204499, 85.8457: 0.8686938563324661, 77.5546: 0.38852434311152, 68.2631: -0.1495821846221245, 79.3739: 0.49388700854829837, 72.5066: 0.09617523349526526, 76.2505: 0.31299889266568875, 88.706: 1.034344838550251, 64.2659: -0.3810754217374363, 74.4936: 0.21125005140483302, 68.0942: -0.1593638337136823, 65.0689: -0.33457060101202973, 75.0578: 0.24392504499546122, 75.21: 0.25273953280916805, 75.8657: 0.2907136435808364, 77.2582: 0.3713586782758909, 71.4821: 0.03684249522231464, 81.9849: 0.645100068217086, 74.402: 0.20594514283889623, 70.4876: -0.020752827581442628, 89.7714: 1.0960462532462014, 75.4559: 0.26698054827165596, 66.4133: -0.25671122245258127, 66.3342: -0.2612922079063548, 78.7949: 0.46035488999286767, 67.8225: -0.17509902647967582, 75.027: 0.2421412984470895, 90.6598: 1.147496916673912, 65.0397: -0.3362616854020447, 70.3776: -0.027123350968484613, 59.4665: -0.6590271484989767, 67.9131: -0.1698520317627124, 70.6885: -0.009117935322744731, 76.5043: 0.32769742753506376, 70.3494: -0.02875652150952619, 69.9334: -0.05284868268233945, 76.5862: 0.3324405717659617, 66.112: -0.27416066514817977, 81.5764: 0.6214422609115715, 72.7441: 0.10992977262637853, 79.5919: 0.5065122276244356, 75.4339: 0.2657064435942473, 62.4442: -0.4865770804117494, 82.0496: 0.6488470942456463, 67.5942: -0.1883207582002369, 62.2667: -0.4968567886044764, 67.0954: -0.21720818606802395, 59.779: -0.6409290706948801, 84.7859: 0.8073167591907652, 63.4784: -0.42668257780375995, 60.9902: -0.5707838168186503, 71.8727: 0.05946364463121065, 79.5124: 0.5019080766310736, 69.6801: -0.0675182606272286, 80.8133: 0.5772482027601914, 58.9222: -0.6905496564950405, 78.5191: 0.4443822504460839, 76.0511: 0.30145087118045094, 83.2062: 0.7158302519679444, 76.2709: 0.31418033518473987, 53.0996: -1.027758833525866, 69.9311: -0.05298188453497791, 74.8194: 0.23011838340027208, 61.8536: -0.5207809996152679, 52.8143: -1.0442816546378941, 72.3221: 0.08549012835972661, 80.3544: 0.5506715374664315, 73.7443: 0.16785520436928197, 66.4699: -0.2534332986007039, 75.8358: 0.28898201949654057, 64.1093: -0.39014473048662507, 68.6738: -0.1257969668488682, 60.9334: -0.574073323440323, 53.7252: -0.991527929608289, 70.6862: -0.00925113717538319, 94.7531: 1.3845556746755399, 73.8422: 0.17352497018374993, 75.4692: 0.26775080246299837, 73.7655: 0.16908297796751232, 54.9928: -0.9181163346499757, 81.1449: 0.5964524350796749, 63.8369: -0.4059204629469003, 65.6918: -0.2984960644866799, 55.8679: -0.8674359254136079, 72.8583: 0.11654353417910741, 76.2512: 0.3130394323599696, 83.6611: 0.7421752618658123, 71.6132: 0.04443500082268947, 71.04: 0.011238782591303254, 78.5215: 0.4445212436836199, 84.8042: 0.8083765826269729, 69.136: -0.09902918585349736, 67.8483: -0.1736048491761702, 72.9766: 0.12339474251262653, 80.7973: 0.5763215811766221, 86.519: 0.9076872508460612, 56.1118: -0.8533107376490664, 64.7274: -0.35434818043634636, 67.5209: -0.19256584332996599, 53.5905: -0.999328925064967, 65.0723: -0.33437369392552124, 53.027: -1.0319633789613138, 83.9531: 0.7590861057659603, 74.4577: 0.20917094422669852, 65.8209: -0.29101938658425186, 53.493: -1.004975525339845, 65.9575: -0.28310835481452507, 78.5884: 0.4483956801799203, 78.2666: 0.42975900358037394, 80.3793: 0.5521135923058621, 67.7637: -0.1785043607992949, 81.7357: 0.6306679370529871, 76.8755: 0.34919504827388204, 68.9131: -0.11193818278960316, 81.2459: 0.6023017338259589, 85.9401: 0.874160923675528, 63.1691: -0.44459533129114265, 65.4782: -0.310866462627336, 61.294: -0.55318958950062, 75.5634: 0.2732062870362653, 81.145: 0.5964582264645716, 65.8467: -0.28952520928074543, 59.7099: -0.6449309176589223, 61.1092: -0.5638920687908503, 64.2252: -0.38343251539064194, 75.9229: 0.2940263157420979, 61.8165: -0.5229296034121703, 74.0511: 0.18562317323423244, 73.0085: 0.12524219429486833, 75.1835: 0.25120481581138077, 78.8784: 0.46519069638212235, 84.7995: 0.8081043875367993, 76.1296: 0.3059971083248395, 73.7179: 0.16632627875639214, 77.8977: 0.40839458469419415, 65.3691: -0.3171848635503021, 51.9993: -1.0914814415509784, 73.4602: 0.1514018798760219, 82.9369: 0.7002340524394859, 75.0982: 0.24626476449397516, 60.1919: -0.6170164424538837, 79.8121: 0.5192648571683145, 60.7995: -0.5818279878178222, 53.8011: -0.9871322684712301, 54.0895: -0.9704299144273852, 55.7105: -0.8765515652419751, 85.2573: 0.834617347596689, 71.2224: 0.021802268643997626, 67.827: -0.1748384141592972, 75.5722: 0.27371592890722835, 41.5476: -1.696779616863224, 75.8473: 0.2896480287597312, 78.9044: 0.46669645645542296, 60.697: -0.5877641573375658, 76.2005: 0.31010320021703347, 72.1141: 0.07344404777331914, 78.2467: 0.4286065179858095, 79.1336: 0.47997031064005996, 76.1863: 0.3092808235616152, 71.0084: 0.009408704963752328, 79.2395: 0.4861033872463125, 63.5127: -0.42469613278398216, 57.3709: -0.7803914104070248, 64.043: -0.3939844186735421, 74.7051: 0.22349883046264568, 82.3997: 0.6691227327711318, 76.4184: 0.32272262790827394, 86.443: 0.9032857983241045, 60.9386: -0.5737721714256627, 66.4888: -0.25233872685511205, 65.0215: -0.3373157174533549, 73.7161: 0.16622203382824038, 83.6978: 0.7443007001231251, 76.4688: 0.3256414858965184, 70.8275: -0.0010679103154827903, 68.7451: -0.12166770941708588, 80.8127: 0.577213454450808, 80.2321: 0.5435886737370206, 56.0589: -0.8563743802597439, 77.8135: 0.4035182386106586, 71.8319: 0.05710075959310836, 85.5367: 0.8507984769997754, 62.8156: -0.46506787690313656, 78.536: 0.44536099449372984, 48.9533: -1.2678870255230692, 83.415: 0.7279226636335302, 73.3813: 0.14683247719204334, 72.3702: 0.08827578449533263, 73.2594: 0.13977277900222151, 69.9387: -0.05254173928278248, 67.163: -0.21329320987744183, 73.3016: 0.14221674342888638, 72.8504: 0.11608601477221948, 74.3814: 0.20475211755005007, 65.6991: -0.2980732933891762, 67.377: -0.20089964619719655, 67.0411: -0.22035290806726365, 60.9621: -0.5724111959747948, 72.7554: 0.11058419911977417, 87.8404: 0.9842146108791275, 67.6413: -0.18559301591360344, 90.7491: 1.15266862338721, 73.988: 0.18196880936402893, 59.9443: -0.6313559114596254, 70.7419: -0.00602533578758091, 79.8691: 0.522565946559782, 79.2485: 0.4866246118870705, 68.4877: -0.1365747341427636, 64.9366: -0.34223260323117216, 79.4679: 0.4993309103517703, 94.0422: 1.343384719440556, 65.9788: -0.28187478983139724, 74.1103: 0.18905167309343993, 77.7751: 0.4012943468100907, 77.7916: 0.4022499253181474, 74.6146: 0.21825762713057895, 76.4325: 0.32353921317879475, 69.6831: -0.06734451908030926, 98.4453: 1.5983851878540538, 70.819: -0.0015601780317541004, 76.0925: 0.30384850452793744, 50.4119: -1.1834138854108918, 62.9449: -0.4575796162309139, 70.259: -0.033991933456695406, 77.1572: 0.36550937952960694, 77.029: 0.3580848240912539, 81.3131: 0.6061935444769518, 66.9859: -0.22354975253057924, 61.2353: -0.5565891324353411, 84.2011: 0.7734487403112907, 77.4571: 0.38287774283664205, 81.5691: 0.6210194898140677, 68.3388: -0.14519810625485943, 59.7764: -0.6410796467022103, 76.6204: 0.3344212254008419, 78.8906: 0.4658972453395947, 77.6967: 0.3967539010505996, 78.3662: 0.4355272229380962, 77.7431: 0.3994411036429514, 82.9486: 0.7009116444724716, 65.2409: -0.32460941898865514, 60.8025: -0.5816542462709029, 73.487: 0.15295397102850092, 71.5608: 0.04140031513649821, 65.1008: -0.33272314922978713, 75.931: 0.29449541791878003, 77.3051: 0.3740748377927294, 67.9207: -0.16941188651051697, 73.8862: 0.17607317953856655, 86.2315: 0.8910370192662918, 80.7148: 0.57154368863634, 85.3864: 0.842094025499117, 69.763: -0.06271720254735731, 93.2449: 1.2972100076542965, 91.8731: 1.2177637896329847, 75.4743: 0.2680461630927612, 62.9731: -0.4559464456898719, 60.6543: -0.5902370786887178, 62.2097: -0.5001578779959438, 62.5762: -0.47893245234729914, 62.6984: -0.4718553800027852, 71.755: 0.05264718460707574, 78.9461: 0.46911146395760195, 69.8089: -0.06005895687949224, 84.9638: 0.8176196329230817, 69.4144: -0.08290597029938346, 73.746: 0.16795365791253622, 87.6235: 0.9716530970368604, 63.5907: -0.4201788525640799, 64.1127: -0.3899478234001166, 72.8604: 0.11666515326195087, 72.0203: 0.06801172873964223, 71.722: 0.05073602759096306, 64.2512: -0.3819267553173413, 69.9738: -0.050508963183826354, 55.1978: -0.9062439956104883, 65.1289: -0.33109577007364305, 72.1883: 0.07774125536712413, 78.5087: 0.44377994641676416, 66.8245: -0.2328970477548391, 71.5281: 0.039506532275077215, 68.3531: -0.14436993821454447, 55.762: -0.8735690020198601, 61.2487: -0.5558130868591017, 72.8706: 0.11725587452147644, 71.7547: 0.05262981045238405, 65.5003: -0.30958656656503064, 64.2589: -0.38148081868024836, 66.9385: -0.2262948689719044, 67.8239: -0.17501794709111404, 81.3643: 0.6091587335443747, 73.0048: 0.12502791305366812, 81.3862: 0.6104270468368859, 60.0945: -0.6226572513438645, 59.1997: -0.6744785634050025, 71.3978: 0.03196035775388159, 74.8374: 0.23116083268178808, 74.2233: 0.19559593802740124, 76.4955: 0.3271877856641008, 72.6528: 0.10464223821513344, 78.9207: 0.4676404521936847, 74.454: 0.20895666298549748, 91.1467: 1.1756951697389182, 73.4743: 0.1522184651465427, 70.8271: -0.00109107585507198, 63.9877: -0.3971870545217556, 63.3728: -0.4327982802553204, 63.0881: -0.44928635305796466, 68.259: -0.1498196314029139, 69.9886: -0.049651838219023865, 72.9102: 0.11954926294081199, 78.7144: 0.45569282515053233, 76.1115: 0.3049488676584268, 73.969: 0.18086844623353954, 78.9717: 0.4705940584913134, 77.1687: 0.3661753887927976, 60.2791: -0.6119663548234284, 80.8574: 0.5798022034999055, 57.4465: -0.7760131234246576, 72.1872: 0.07767755013325406, 69.7966: -0.06077129722186126, 63.4107: -0.43060334537923955, 72.9398: 0.12126351287041615, 77.2184: 0.3690537070867612, 63.8135: -0.4072756470128712, 72.5468: 0.09850337022398417, 73.6648: 0.16325105337592002, 74.4377: 0.20801266724723655, 72.1178: 0.07365832901452019, 84.5442: 0.793318981893965, 76.7127: 0.3397666736610596, 69.2418: -0.09290190063214228, 78.3778: 0.4361990235861835, 67.7369: -0.18005645195177392, 77.551: 0.3883158532552173, 76.7252: 0.34049059677322363, 67.8871: -0.17135779183601302, 71.3784: 0.030836829083803013, 71.6417: 0.046085545518422734, 72.2049: 0.07870262526007755, 81.8994: 0.6401484341298854, 61.0492: -0.567366899729237, 68.9331: -0.1107799058101412, 74.3806: 0.2047057864708717, 75.5833: 0.2743587726308298, 77.3443: 0.37634506067247575, 70.2884: -0.03228926629688626, 78.8845: 0.4655439708608585, 57.9256: -0.7482665983816408, 50.4814: -1.1793888729072608, 65.3148: -0.32032958554954183, 77.7127: 0.3976805226341688, 76.7338: 0.3409886558743924, 73.8593: 0.17451529700119006, 73.8456: 0.17372187727025845, 85.7734: 0.8645066850517104, 69.2517: -0.0923285535273084, 74.6211: 0.21863406714890432, 72.336: 0.08629513086045239, 75.2023: 0.25229359617207514, 79.7914: 0.518066040494571, 65.746: -0.29535713387233775, 72.3738: 0.08848427435163617, 69.581: -0.07325752306046332, 65.7472: -0.2952876372535693, 63.5068: -0.42503782449292377, 62.2728: -0.4965035141257407, 67.8866: -0.17138674876049972, 57.5177: -0.7718896573777724, 80.3706: 0.5516097418197958, 78.2466: 0.42860072660091203, 62.6376: -0.4753765420203503, 67.736: -0.18010857441584982, 61.9799: -0.5134664804899641, 63.8205: -0.4068702500700591, 73.4064: 0.14828611480126888, 86.4423: 0.9032452586298235, 71.4889: 0.037236309395331686, 78.6701: 0.453127241641024, 72.1476: 0.07538416171391853, 72.2754: 0.08278555161268232, 72.0716: 0.0709827091919626, 71.438: 0.03428849448260051, 80.7407: 0.5730436573247439, 80.4425: 0.5557737475609623, 73.7804: 0.16994589431721147, 63.2233: -0.44145640067680003, 64.1509: -0.3877355143693444, 66.569: -0.24769403616746838, 58.9557: -0.6886095425544412, 71.9384: 0.06326858450874431, 75.5716: 0.27368118059784496, 83.1152: 0.7105600917113917, 71.1129: 0.015460702181442337, 67.8058: -0.17606618775752675, 82.9612: 0.7016413589695331, 72.054: 0.06996342545003578, 58.9324: -0.6899589352355145, 76.4861: 0.32664339548375276, 74.5188: 0.21270948039895526, 79.7771: 0.5172378724542559, 79.0238: 0.4736113700228121, 67.2477: -0.2083879068694196, 70.0347: -0.046982009781363784, 64.9394: -0.342070444454047, 60.3706: -0.6066672376423887, 75.115: 0.24723771715672277, 76.247: 0.31279619419428273, 70.8245: -0.0012416518624021246, 73.0183: 0.1258097500148047, 81.8313: 0.6362045010148166, 83.3319: 0.7231100227838647, 64.472: -0.36913937746407893, 74.4062: 0.20618838100458314, 70.3571: -0.028310584872433257, 72.6468: 0.10429475512129477, 58.5201: -0.7138368151671276, 70.2738: -0.03313480849189374, 72.7854: 0.11232161458896751, 80.0551: 0.5333379224687798, 71.0311: 0.010723349335441931, 74.7519: 0.22620919859458746, 64.6251: -0.3602727671862954, 70.2238: -0.03603050094054904, 71.982: 0.06579362832397176, 59.2893: -0.669289482537012, 68.2558: -0.15000495571962824, 69.1432: -0.09861220614089113, 73.1426: 0.13300844144216248, 66.1745: -0.2705410495873604, 69.7676: -0.06245079884208122, 59.3775: -0.6641814810575838, 74.3068: 0.2004317444166559, 69.5563: -0.07468799513009969, 78.9406: 0.46879293778825, 68.1571: -0.15572105261327376, 72.7478: 0.11014405386757874, 76.2464: 0.3127614458848985, 73.6016: 0.1595908981208198, 77.0682: 0.3603550469710003, 69.5626: -0.07432313788156851, 74.5358: 0.21369401583149789, 66.2175: -0.26805075408151635, 68.4748: -0.13732182279451682, 77.3831: 0.3785921180126321, 86.4824: 0.905567603973645, 80.4792: 0.557899185818276, 58.5914: -0.7097075577353449, 71.0088: 0.009431870503341518, 63.5173: -0.4244297290787061, 71.5769: 0.042332728104964946, 74.8936: 0.23441559099407705, 63.9261: -0.40075454761849905, 66.6698: -0.2418563201909794, 68.6399: -0.12776024632905678, 69.1617: -0.09754079993488843, 74.6239: 0.21879622592602946, 61.4446: -0.5444677638452695, 72.7314: 0.1091942667444195, 71.5814: 0.04259334042534436, 65.1272: -0.3311942236168973, 69.0175: -0.10589197695681066, 71.7673: 0.05335952494944558, 73.7766: 0.16972582169111375, 62.6299: -0.4758224786574432, 78.8361: 0.46274094057056, 65.9809: -0.28175317074855377, 61.5411: -0.5388790774193645, 83.0586: 0.7072821678595136, 64.7203: -0.3547593687640559, 69.826: -0.05906863006205211, 75.2251: 0.2536140319286623, 72.4008: 0.09004794827391017, 68.5225: -0.1345593321985, 74.6661: 0.22124019035269432, 73.9355: 0.17892833229294097, 82.5555: 0.6781457104411421, 64.5316: -0.36568771206528145, 75.8349: 0.2889298970324647, 75.8721: 0.29108429221426424, 65.3385: -0.3189570273288797, 71.8622: 0.058855549216993396, 71.3834: 0.031126398328668294, 66.2724: -0.2648712837728925, 78.7127: 0.45559437160727806, 64.96: -0.3408774191652017, 68.0015: -0.16473244751348995, 60.3991: -0.6050166929466554, 76.032: 0.300344716665064, 68.1157: -0.15811868596076026, 82.6379: 0.6829178115965266, 81.4651: 0.6149964495208644, 75.9756: 0.2970783755829809, 72.4763: 0.0944204438713794, 81.5182: 0.6180716749013357, 66.5034: -0.25149318466010456, 79.5078: 0.5016416729257975, 73.664: 0.16320472229674163, 67.5352: -0.1917376752896502, 67.4589: -0.19615650196629864, 73.1853: 0.13548136279331405, 69.6421: -0.06971898688820656, 71.2103: 0.02110151107142361, 73.5828: 0.15850211776012543, 65.2768: -0.3225303118105206, 63.9745: -0.39795151732820055, 54.5063: -0.9462914221753932, 88.7883: 1.039111148320738, 70.645: -0.011637187753075491, 64.7623: -0.35232698710718524, 78.4453: 0.440108208391869, 79.0481: 0.47501867655285934, 78.4641: 0.44119698875256336, 66.9336: -0.226578646831873, 67.3742: -0.20106180497432086, 66.2278: -0.2674542414370933, 62.5622: -0.4797432462329228, 66.5885: -0.24656471611249312, 78.9292: 0.46813271990995603, 70.9212: 0.00435861733329745, 58.9128: -0.6910940466753877, 84.225: 0.774832881301748, 73.7799: 0.1699169373927248, 73.6174: 0.16050593693459486, 74.7614: 0.22675938015983133, 77.9909: 0.41379215541848774, 70.6441: -0.011689310217151373, 64.245: -0.38228582118097415, 71.2407: 0.022862092080206144, 63.2183: -0.4417459699216657, 72.8267: 0.11471345655155732, 75.953: 0.29576952259618877, 79.6029: 0.5071492799631403, 73.7841: 0.17016017555841167, 68.3525: -0.14440468652392785, 76.2688: 0.31405871610189645, 63.3259: -0.4355144397721593, 73.1829: 0.1353423695557789, 67.7882: -0.17708547149945356, 63.632: -0.4177870106014905, 81.4729: 0.6154481775428541, 80.1542: 0.5390771849020153, 73.462: 0.15150612480417366, 71.9102: 0.061635413967702744, 71.4594: 0.035527850850625035, 61.0831: -0.5654036202490484, 73.1591: 0.13396401995021842, 70.1933: -0.03779687333422908, 78.5508: 0.4462181194585315, 80.1268: 0.5374903454401522, 71.5678: 0.04180571207931026, 60.3163: -0.6098119596416288, 74.6531: 0.2204873103160436, 78.0424: 0.4167747186406031, 69.8467: -0.05786981338830846, 62.2337: -0.4987679456205891, 71.5683: 0.041834669003796135, 64.769: -0.35193896431906485, 76.5833: 0.332272621603939, 76.1511: 0.3072422560777615, 63.3017: -0.43691595491730856, 66.3289: -0.2615991513059118, 63.4556: -0.42800301356034703, 66.7708: -0.23600702144469543, 74.5994: 0.2173773366261881, 62.2458: -0.49806718804801425, 81.609: 0.6233302523880941, 60.5885: -0.5940478099511481, 69.5719: -0.07378453908611883, 79.2637: 0.4875049023914614, 73.3115: 0.14279009053372027, 73.6997: 0.16527224670508195, 78.6301: 0.4508106876820993, 61.0804: -0.5655599876412761, 60.2269: -0.6149894577398246, 72.4187: 0.09108460617052867, 69.0608: -0.1033843072962749, 66.5957: -0.24614773639988688, 60.8523: -0.5787701365920421, 62.6176: -0.4765348189998122, 71.1288: 0.01638153238011489, 81.6022: 0.6229364382150772, 71.2793: 0.0250975666505683, 58.0566: -0.7406798841661635, 73.215: 0.1372014041078157, 68.6333: -0.1281424777322788, 74.1945: 0.1939280191769763, 71.8497: 0.058131626104829366, 68.1382: -0.15681562435886565, 74.7997: 0.2289774805755018, 81.7537: 0.6317103863345032, 65.1954: -0.32724449911693104, 66.0528: -0.27758916500738723, 59.5427: -0.6546141132072258, 68.3178: -0.1464142970832948, 59.9327: -0.6320277121077136, 76.6812: 0.337942387418407, 74.4223: 0.2071207939730507, 70.2528: -0.03435099932032908, 62.8004: -0.46594816740752787, 77.2963: 0.3735651959217664, 67.5026: -0.19362566676617368, 69.5614: -0.07439263450033608, 79.7767: 0.5172147069146668, 72.6675: 0.10549357179503842, 64.4414: -0.3709115412426557, 65.7718: -0.29386295656883127, 81.0528: 0.5911185695892515, 69.2117: -0.09464510748623313, 65.5133: -0.3088336865283799, 77.3316: 0.3756095547905167, 82.1723: 0.6559531235146473, 78.51: 0.44385523442042923, 79.7113: 0.5134271411918248, 71.1217: 0.015970344052406157, 76.4435: 0.32417626551749873, 78.6824: 0.453839581983393, 65.9609: -0.2829114477280166, 65.6152: -0.30293226531802003, 80.5118: 0.5597871772947987, 65.7017: -0.29792271738184606, 65.2177: -0.3259530202848314, 82.1175: 0.652779444590921, 70.1044: -0.04294541450793822, 74.1586: 0.19184891199884177, 75.0522: 0.24360072744121175, 70.9535: 0.006229234655129251, 80.3187: 0.548604013058092, 51.8719: -1.0988596659101526, 70.9579: 0.006484055590610337, 62.6591: -0.47413139426742823, 66.7342: -0.23812666831711082, 70.8793: 0.0019320270613242725, 72.3145: 0.08504998310753036, 79.3253: 0.4910723954882048, 62.822: -0.4646972282697087, 74.6669: 0.22128652143187272, 71.7896: 0.05465100378154517, 78.815: 0.4615189583572271, 70.3419: -0.029190875376824937, 74.8086: 0.2294929138313623, 77.927: 0.41009146046910666, 75.0754: 0.24494432873738806, 67.808: -0.1759387772897858, 66.9352: -0.22648598467351624, 70.4393: -0.023550066486843664, 67.3462: -0.20268339274556826, 74.8588: 0.2324001890498126, 70.3532: -0.028536448883428475, 83.4829: 0.7318550139788039, 68.4535: -0.13855538777764387, 81.0297: 0.5897807596779726, 63.2946: -0.4373271432450173, 68.8454: -0.11585895036508277, 76.7759: 0.3434268289161598, 62.9845: -0.4552862278115788, 67.8887: -0.17126512967765628, 71.3927: 0.031664997124118806, 79.355: 0.4927924368027065, 69.3753: -0.08517040179423231, 71.4405: 0.03443327910503315, 80.7236: 0.5720533305073039, 66.262: -0.26547358780221303, 74.9811: 0.2394830527792236, 80.8388: 0.5787250059090061, 78.4064: 0.4378553596668151, 67.8334: -0.17446776552586934, 79.9003: 0.5243728586477429, 68.544: -0.13331418444557797, 76.6963: 0.3388168865379003, 70.4902: -0.020602251574112482, 68.0558: -0.16158772551424944, 63.3289: -0.43534069822523996, 55.0012: -0.9176298583186018, 70.5557: -0.01680889446637382, 74.5691: 0.21562254700230307, 69.1347: -0.09910447385716244, 64.4055: -0.37299064842079016, 72.4402: 0.0923297539234507, 57.9402: -0.7474210561866338, 67.0229: -0.22140694011857384, 60.6282: -0.5917486301469159, 72.7286: 0.10903210796729516, 72.5027: 0.09594936948427003, 69.3228: -0.08821087886532025, 60.5024: -0.599034192347733, 65.0437: -0.336030030006152, 74.0055: 0.18298230172105823, 89.8074: 1.0981311518092334, 62.385: -0.49000558027095775, 75.2624: 0.25577421849535936, 64.8028: -0.3499814762237738, 82.0116: 0.6466463679846683, 66.7274: -0.23852048249012786, 76.1338: 0.3062403464905264, 73.8991: 0.17682026819031976, 79.6701: 0.5110410906141333, 79.9007: 0.524396024187332, 68.2431: -0.15074046160158644, 87.3748: 0.9572499227972474, 73.476: 0.15231691868979697, 72.8489: 0.11599914399876023, 66.25: -0.26616855398989037, 74.5474: 0.21436581647958602, 82.8723: 0.6964928177958232, 73.7224: 0.16658689107677074, 68.5743: -0.13155939482169293, 67.7847: -0.17728816997085958, 75.2142: 0.2529827709748558, 76.975: 0.3549574762467059, 65.0281: -0.33693348605013285, 70.2126: -0.036679136049047996, 69.5798: -0.07332701967923089, 75.5067: 0.26992257179948964, 63.6584: -0.4162580849886003, 67.6442: -0.1854250657515816, 75.2506: 0.255090835077477, 68.1936: -0.15360719712575505, 60.6112: -0.592733165579459, 72.5613: 0.09934312103409415, 62.0293: -0.5106055363506926, 86.5735: 0.9108435556150951, 77.0856: 0.3613627479431321, 79.5111: 0.5018327886274085, 75.9439: 0.29524250657053325, 72.983: 0.1237653911460544, 78.1922: 0.4254502132167748, 53.6589: -0.995367617795206, 73.1538: 0.13365707655066145, 66.9689: -0.22453428796312186, 66.0053: -0.2803400728336099, 71.3348: 0.028311785268575574, 70.1722: -0.0390188555475611, 67.4909: -0.19430325879915933, 69.5685: -0.07398144617262735, 58.9617: -0.6882620594606025, 63.0649: -0.45062995435414055, 76.5126: 0.3281781124815409, 61.6679: -0.5315356013695741, 57.1275: -0.7944876412470796, 73.4692: 0.1519231045167799, 73.5391: 0.15597128256000048, 74.3718: 0.20419614459990787, 73.0416: 0.1271591426958785, 57.0426: -0.7994045270248964, 72.8025: 0.11331194140640764, 67.9866: -0.16559536386318913, 68.7725: -0.12008086995522269, 66.5108: -0.2510646221777033, 74.5719: 0.2157847057794274, 84.7991: 0.80808122199721, 74.1151: 0.18932965956851103, 74.7536: 0.2263076521378417, 73.8992: 0.17682605957521647, 72.7998: 0.11315557401418082, 67.9601: -0.16713008086097644, 90.3802: 1.1313042045010304, 69.7711: -0.06224810037067519, 68.1865: -0.1540183854534646, 61.6216: -0.5342170125770291, 78.3554: 0.4349017533691864, 72.4978: 0.09566559162430144, 70.0379: -0.04679668546465027, 90.8345: 1.1576144660895142, 65.1141: -0.33195289503844555, 66.8556: -0.2310959270517757, 59.3744: -0.6643610139894002, 75.6651: 0.27909612547683016, 78.9494: 0.46930257965921296, 72.104: 0.07285911789869108, 67.7439: -0.1796510550089627, 69.8275: -0.058981759288592034, 78.1323: 0.42198117366328564, 63.6196: -0.418505142328757, 76.2364: 0.31218230739516795, 80.6178: 0.5659260452859488, 66.571: -0.24757820846952244, 76.6301: 0.3349829897358808, 80.6111: 0.5655380224978284, 66.7096: -0.23955134900184968, 73.7995: 0.17105204883259756, 66.1606: -0.2713460520880862, 73.9732: 0.18111168439922726, 61.838: -0.5216844556592484, 72.6564: 0.10485072807143696, 78.4818: 0.4422220638793877, 66.9021: -0.2284029330745256, 79.4823: 0.5001648697769828, 67.5114: -0.19311602489521068, 78.1182: 0.4211645883927648, 79.9929: 0.529735681062653, 65.2415: -0.3245746706792709, 66.7767: -0.23566532973575344, 68.0574: -0.16149506335589267, 71.2891: 0.02566512237050468, 60.2566: -0.6132694164253234, 67.5568: -0.19048673615183148, 73.0934: 0.13015908007268556, 69.6456: -0.06951628841680053, 73.7398: 0.16759459204890337, 73.9907: 0.18212517675625656, 71.6058: 0.04400643834028822, 63.3484: -0.4342113781702643, 87.9476: 0.9904229754890445, 74.2561: 0.19749551227371973, 70.5774: -0.015552163943657604, 72.2114: 0.07907906527840292, 65.5849: -0.30468705494190507, 55.0266: -0.9161588465546846, 70.4041: -0.025588633970697296, 66.7963: -0.23453021829588067, 74.4503: 0.20874238174429727, 82.2472: 0.6602908708027332, 72.7697: 0.11141236716008997, 63.6106: -0.41902636696951506, 71.1546: 0.01787570968362133}\n",
      "prob of 7 events [2.110909090909091, 2.341818181818182, 2.747272727272727, 3.1418181818181816, 3.4672727272727273, 3.6036363636363635, 3.68]\n",
      "mad [3.5109090909090908, 3.7418181818181817, 4.1472727272727266, 4.541818181818181, 4.867272727272727, 5.003636363636364, 5.08]\n"
     ]
    }
   ],
   "source": [
    "import math\n",
    "\n",
    "import numpy as np\n",
    "from numpy.random import normal\n",
    "from matplotlib import pyplot\n",
    "\n",
    "pyplot.style.use('seaborn')\n",
    "tau = 57\n",
    "alpha = 1 / tau\n",
    "\n",
    "# Parameters\n",
    "mean = (1 / alpha) * (np.sqrt(np.pi / 2))\n",
    "stdev = np.sqrt((4 - np.pi) / (2 * pow(alpha, 2)))\n",
    "# runs = [10, 30, 50,100, 250, 500, 1000]\n",
    "runs = [5, 10, 15, 30]\n",
    "np.random.seed(1000)\n",
    "\n",
    "\n",
    "def calc_means(samp_sizes, estimates):\n",
    "    # 10, 30, . .. 1000\n",
    "    # Initialize an empty dictionary which maps sample sizes to arrays of sample means\n",
    "    sample_means = {new_list: [] for new_list in samp_sizes}\n",
    "    for ss in samp_sizes:\n",
    "        # 1, 2, 3 . . . 110\n",
    "        for estimate in range(estimates):\n",
    "            sample = np.random.normal(loc=mean, scale=stdev, size=(ss))\n",
    "            sample_means[ss].append(round(sample.mean(), 4))\n",
    "    return sample_means\n",
    "\n",
    "\n",
    "# Holds our dict containing sample means\n",
    "data = calc_means(runs, 550)\n",
    "# print(data)\n",
    "means = {'5': 0, '10': 0, '15': 0, '30': 0}\n",
    "mu = []\n",
    "\n",
    "# 2.1 calculate mean\n",
    "def mean_est(default=data):\n",
    "    for vals in data.keys():\n",
    "        # print(vals)\n",
    "        count = 0\n",
    "        for item in data[vals]:\n",
    "            count += item\n",
    "        mu.append((count / 550))\n",
    "    return mu\n",
    "\n",
    "\n",
    "# 2.1 calculate variance\n",
    "def var_est():\n",
    "    itr = 0\n",
    "    variance = []\n",
    "    for vals in data.keys():\n",
    "        var = 0\n",
    "        for item in data[vals]:\n",
    "            var += math.pow((item - mu[itr]), 2)\n",
    "        itr += 1\n",
    "        variance.append(var / 550)\n",
    "    return variance\n",
    "\n",
    "\n",
    "# 2.2 Calculate zn(k)\n",
    "d = {}\n",
    "def znk():\n",
    "    itr = 0\n",
    "    z = 0\n",
    "\n",
    "    v = var_est()\n",
    "    for vals in data.keys():\n",
    "        # count =0\n",
    "        for item in data[vals]:\n",
    "            z = (item - mu[itr]) / (pow(v[itr], 0.5))\n",
    "            d[item] = z\n",
    "    return d  # ret a dict\n",
    "\n",
    "\n",
    "# 2.3 estimate prob of 7 events\n",
    "z_vals = {-1.4: 0.0808, -1: 0.1587, -0.5: 0.3085, 0: 0.5, 0.5: 0.6915, 1: 0.8413, 1.4: 0.9192}\n",
    "est =[]\n",
    "def estimate():\n",
    "    for nums in z_vals.values(): #compare with z scores\n",
    "        count = 0\n",
    "        for vals in d.values():\n",
    "            if vals < nums:\n",
    "                count+=1\n",
    "        est.append(count/550)\n",
    "    return  est #\n",
    "\n",
    "#2.4\n",
    "zj =[-1.4,-1,-0.5,0,0.5,1,1.4]\n",
    "mad_lst=[]\n",
    "md_lst1=[]\n",
    "def mad():\n",
    "    for i in range(0,len(est)):\n",
    "        for j in range(0,len(zj)):\n",
    "            mad_lst.append(abs(est[i]-zj[j]))\n",
    "        md_lst1.append(max(mad_lst))\n",
    "        # md_lst1.clear()\n",
    "        mad_lst.clear()\n",
    "    return md_lst1\n",
    "\n",
    "print(\"mean: \" , mean_est())\n",
    "print(\"variance: \" , var_est())\n",
    "print(\"zn(k) values: \", znk())\n",
    "print(\"prob of 7 events\", estimate())\n",
    "print(\"mad\",mad())\n",
    "\n"
   ]
  },
  {
   "cell_type": "markdown",
   "metadata": {},
   "source": [
    "## 2.1 Means and Variances"
   ]
  },
  {
   "cell_type": "markdown",
   "metadata": {},
   "source": [
    "### Means"
   ]
  },
  {
   "cell_type": "markdown",
   "metadata": {},
   "source": [
    "$$\n",
    "n = 5: 70.84593963636364 \\\\ \n",
    "n = 10: 71.36249963636367 \\\\\n",
    "n = 15: 71.21532872727279 \\\\ \n",
    "n = 30: 71.21068909090906 \\\\\n",
    "$$"
   ]
  },
  {
   "cell_type": "markdown",
   "metadata": {},
   "source": [
    "### Variances"
   ]
  },
  {
   "cell_type": "markdown",
   "metadata": {},
   "source": [
    "$$\n",
    "n = 5 : 298.1502250605746 \\\\ \n",
    "n = 10: 143.78979397079988 \\\\ \n",
    "n = 15: 83.12217111699293 \\\\ \n",
    "n = 30: 46.65483654162643 \\\\ \n",
    "$$"
   ]
  },
  {
   "cell_type": "markdown",
   "metadata": {},
   "source": [
    "## 2.2, 2.3 Transform, then Estimate"
   ]
  },
  {
   "cell_type": "markdown",
   "metadata": {},
   "source": [
    "Respective to the required set from the instruction PDF, the estimates are: \n",
    "\n",
    "$$\n",
    "2.11090909090909 \\\\ 2.341818181818182 \\\\ 2.747272727272727 \\\\ 3.1418181818181816 \\\\ 3.4672727272727273 \\\\ 3.6036363636363635 \\\\ 3.68\n",
    "$$"
   ]
  },
  {
   "cell_type": "markdown",
   "metadata": {},
   "source": [
    "## 2.4 MADs"
   ]
  },
  {
   "cell_type": "markdown",
   "metadata": {},
   "source": [
    "Respective to therequired setfrom the instruction PDF, the MADs are:\n",
    "    \n",
    "$$ \n",
    "3.5109090909090908 \\\\ 3.7418181818181817 \\\\ 4.1472727272727266 \\\\ 4.541818181818181 \\\\ 4.867272727272727 \\\\ 5.003636363636364 \\\\ 5.08\n",
    "$$"
   ]
  },
  {
   "cell_type": "code",
   "execution_count": null,
   "metadata": {},
   "outputs": [],
   "source": []
  }
 ],
 "metadata": {
  "hide_input": false,
  "kernelspec": {
   "display_name": "Python 3",
   "language": "python",
   "name": "python3"
  },
  "language_info": {
   "codemirror_mode": {
    "name": "ipython",
    "version": 3
   },
   "file_extension": ".py",
   "mimetype": "text/x-python",
   "name": "python",
   "nbconvert_exporter": "python",
   "pygments_lexer": "ipython3",
   "version": "3.8.3"
  },
  "toc": {
   "base_numbering": 1,
   "nav_menu": {},
   "number_sections": false,
   "sideBar": true,
   "skip_h1_title": false,
   "title_cell": "Table of Contents",
   "title_sidebar": "Contents",
   "toc_cell": false,
   "toc_position": {
    "height": "calc(100% - 180px)",
    "left": "10px",
    "top": "150px",
    "width": "288px"
   },
   "toc_section_display": true,
   "toc_window_display": true
  },
  "varInspector": {
   "cols": {
    "lenName": 16,
    "lenType": 16,
    "lenVar": 40
   },
   "kernels_config": {
    "python": {
     "delete_cmd_postfix": "",
     "delete_cmd_prefix": "del ",
     "library": "var_list.py",
     "varRefreshCmd": "print(var_dic_list())"
    },
    "r": {
     "delete_cmd_postfix": ") ",
     "delete_cmd_prefix": "rm(",
     "library": "var_list.r",
     "varRefreshCmd": "cat(var_dic_list()) "
    }
   },
   "types_to_exclude": [
    "module",
    "function",
    "builtin_function_or_method",
    "instance",
    "_Feature"
   ],
   "window_display": false
  }
 },
 "nbformat": 4,
 "nbformat_minor": 4
}
