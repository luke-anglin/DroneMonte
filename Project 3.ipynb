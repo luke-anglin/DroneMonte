{
 "cells": [
  {
   "cell_type": "markdown",
   "metadata": {},
   "source": [
    "# Drones!"
   ]
  },
  {
   "cell_type": "markdown",
   "metadata": {},
   "source": [
    "## Section 3"
   ]
  },
  {
   "cell_type": "markdown",
   "metadata": {
    "slideshow": {
     "slide_type": "fragment"
    }
   },
   "source": [
    "### Graph Function $f_x$"
   ]
  },
  {
   "cell_type": "markdown",
   "metadata": {},
   "source": [
    "$f_x(x) = \\alpha^2xe^{\\frac{-1}{2}\\alpha^2x^2}$, only when $x > 0$"
   ]
  },
  {
   "cell_type": "markdown",
   "metadata": {},
   "source": [
    "Additionally, we know that $\\alpha = \\frac{1}{\\tau}$ and $\\tau = 57$ inches."
   ]
  },
  {
   "cell_type": "code",
   "execution_count": 3,
   "metadata": {},
   "outputs": [
    {
     "name": "stdout",
     "output_type": "stream",
     "text": [
      "In decimal form, alpha is equal to 0.017543859649122806\n"
     ]
    }
   ],
   "source": [
    "tau = 57\n",
    "alpha = 1/tau\n",
    "print(f\"In decimal form, alpha is equal to {alpha}\")"
   ]
  },
  {
   "cell_type": "markdown",
   "metadata": {},
   "source": [
    "That is all we need in order to graph $f_x$ and $F_x$"
   ]
  },
  {
   "cell_type": "markdown",
   "metadata": {},
   "source": [
    "![PDF of x](fx_graph1.PNG)"
   ]
  },
  {
   "cell_type": "markdown",
   "metadata": {},
   "source": [
    "### Graph Function $F_x$"
   ]
  },
  {
   "cell_type": "markdown",
   "metadata": {},
   "source": [
    "![bigfofx](./Fx_graph2.PNG)"
   ]
  },
  {
   "cell_type": "markdown",
   "metadata": {},
   "source": [
    "This looks similar to the graph of $f_x$, and goes on for quite a while!"
   ]
  },
  {
   "cell_type": "markdown",
   "metadata": {},
   "source": [
    "### Graph Three Circles"
   ]
  },
  {
   "cell_type": "markdown",
   "metadata": {},
   "source": [
    "These were solved by graphing, setting $F_x = 0.5, 0.7, 0.9$ respectively. \n",
    "\n",
    "$$\n",
    "P[X <= 67.112] = 0.5 \\\\ \n",
    "P[X <= 88.45] = 0.7 \\\\ \n",
    "P[X <= 122.32] = 0.9 \\\\ \n",
    "$$"
   ]
  },
  {
   "cell_type": "markdown",
   "metadata": {},
   "source": [
    "From top to bottom: "
   ]
  },
  {
   "cell_type": "markdown",
   "metadata": {},
   "source": [
    "![circle_fun](assets/circle1.png)"
   ]
  },
  {
   "cell_type": "markdown",
   "metadata": {},
   "source": [
    "![circle_fun](assets/circle2.png)"
   ]
  },
  {
   "cell_type": "markdown",
   "metadata": {},
   "source": [
    "![circle_fun](assets/circle3.png)"
   ]
  },
  {
   "cell_type": "markdown",
   "metadata": {},
   "source": [
    "## Section 4.2"
   ]
  },
  {
   "cell_type": "markdown",
   "metadata": {},
   "source": [
    "### Random Number Generator - $u_{51}, u_{52}, u_{53}$"
   ]
  },
  {
   "cell_type": "code",
   "execution_count": 4,
   "metadata": {
    "code_folding": []
   },
   "outputs": [],
   "source": [
    "import numpy as np\n",
    "import sys\n",
    "import pprint as pprint\n",
    "from numpy.random import normal\n",
    "from matplotlib import pyplot\n",
    "pyplot.style.use('seaborn')\n",
    "# Parameters\n",
    "mean = (1/alpha)*(np.sqrt(np.pi/2))\n",
    "stdev = np.sqrt((4-np.pi)/(2*pow(alpha,2)))\n",
    "\n",
    "# Increase rec limit\n",
    "sys.setrecursionlimit(10000)\n",
    "# Define params\n",
    "a = 24693\n",
    "c = 3967\n",
    "K = pow(2, 18)\n",
    "n = 1000\n",
    "\n",
    "# Write recursive function\n",
    "\n",
    "\n",
    "def rng(x):\n",
    "    # Check if this is the seed\n",
    "    if (x == 0):\n",
    "        return 1000\n",
    "\n",
    "    else:\n",
    "        return (a * rng(x-1) + c) % K"
   ]
  },
  {
   "cell_type": "markdown",
   "metadata": {},
   "source": [
    "Therefore, I used Python to compute: \n",
    "\n",
    "$$\n",
    "u_{51} = 0.19949722290039062 \\\\\n",
    "u_{52} = 0.2000579833984375 \\\\\n",
    "u_{53} = 0.046916961669921875\n",
    "$$ "
   ]
  },
  {
   "cell_type": "markdown",
   "metadata": {},
   "source": [
    "### Estimates of $m_n$"
   ]
  },
  {
   "cell_type": "code",
   "execution_count": 5,
   "metadata": {
    "code_folding": []
   },
   "outputs": [
    {
     "data": {
      "text/plain": [
       "<AxesSubplot:>"
      ]
     },
     "execution_count": 5,
     "metadata": {},
     "output_type": "execute_result"
    },
    {
     "data": {
      "image/png": "[encoded data removed]",
      "text/plain": [
       "<Figure size 576x396 with 1 Axes>"
      ]
     },
     "metadata": {},
     "output_type": "display_data"
    }
   ],
   "source": [
    "runs = [10, 30, 50,100, 250, 500, 1000]\n",
    "import seaborn as sns \n",
    "np.random.seed(1000)\n",
    "\n",
    "def calc_means(samp_sizes, estimates):\n",
    "    # 10, 30, . .. 1000 \n",
    "    # Initialize an empty dictionary which maps sample sizes to arrays of sample means\n",
    "    sample_means = {new_list: [] for new_list in samp_sizes}\n",
    "    for ss in samp_sizes:\n",
    "        # 1, 2, 3 . . . 110 \n",
    "        for estimate in range(estimates): \n",
    "            sample = np.random.normal(loc = mean, scale = stdev, size = (ss))\n",
    "            sample_means[ss].append(round(sample.mean(), 4))\n",
    "    return sample_means\n",
    "\n",
    "# Holds our dict containing sample means \n",
    "data = calc_means(runs, 110)\n",
    "# Plot the data\n",
    "for ss, s_mu in data.items(): \n",
    "    sns.scatterplot(x=ss, y=s_mu)\n",
    "# Plot a line ux  \n",
    "x2 = np.linspace(0, 1000, 10000)\n",
    "y2 = [mean] * len(x2) \n",
    "sns.lineplot(x=x2, y=y2)"
   ]
  },
  {
   "cell_type": "markdown",
   "metadata": {
    "code_folding": []
   },
   "source": [
    "### More graphs showing Variance "
   ]
  },
  {
   "cell_type": "code",
   "execution_count": 6,
   "metadata": {
    "code_folding": [],
    "scrolled": true
   },
   "outputs": [
    {
     "data": {
      "image/png": "[encoded data removed]",
      "text/plain": [
       "<Figure size 576x396 with 7 Axes>"
      ]
     },
     "metadata": {},
     "output_type": "display_data"
    }
   ],
   "source": [
    "for run in range(len(runs)):\n",
    "\tsample = normal(mean, stdev, runs[run])\n",
    "\tpyplot.subplot(2, 4, run+1)\n",
    "\tpyplot.hist(sample, bins=20)\n",
    "\tpyplot.title('%d Samples' % runs[run])\n",
    "\tpyplot.xticks([])\n",
    "pyplot.show()"
   ]
  },
  {
   "cell_type": "markdown",
   "metadata": {},
   "source": [
    "### Interpretation of Estimates of $m_n$"
   ]
  },
  {
   "cell_type": "markdown",
   "metadata": {},
   "source": [
    "According to the weak law of large numbers, as more samples are generated, the sample mean $M_n$ will eventually converge to the population mean $u_x$. In this case, the graph shown a few cells above shows that the sample mean dots gradually draw closer and closer to the line of $u_x$, showing that they are **converging** to that value. Therefore, the graph a few cells above demonstrates the **weak law of large numbers**. "
   ]
  },
  {
   "cell_type": "markdown",
   "metadata": {},
   "source": [
    "![Weak law of large numbers](https://wikimedia.org/api/rest_v1/media/math/render/svg/e3848a0ff097c73716a0bfc4df59c18691b2a323)"
   ]
  },
  {
   "cell_type": "markdown",
   "metadata": {},
   "source": [
    "### Recommend $n*$"
   ]
  },
  {
   "cell_type": "markdown",
   "metadata": {},
   "source": [
    "Now, we know that $u_x \\approx 71.4389$, and we're looking for some amount of trials, $n*$, such that the sample mean, $M_{n*}$ will give us\n",
    "\n",
    "$$\n",
    "P[    | M_{n*} - 71.4389 | < 10 ] = 1\n",
    "$$"
   ]
  },
  {
   "cell_type": "markdown",
   "metadata": {},
   "source": [
    "Additionally, the CDF can be modeled by the following function"
   ]
  },
  {
   "cell_type": "code",
   "execution_count": 7,
   "metadata": {},
   "outputs": [
    {
     "data": {
      "text/latex": [
       "$\\displaystyle 1 - e^{- 0.00015389350569406 x^{2}}$"
      ],
      "text/plain": [
       "1 - exp(-0.00015389350569406*x**2)"
      ]
     },
     "execution_count": 7,
     "metadata": {},
     "output_type": "execute_result"
    }
   ],
   "source": [
    "from sympy import * \n",
    "x = symbols('x')\n",
    "cdf = 1-exp(Rational(-1, 2)*alpha**2*x**2)\n",
    "cdf"
   ]
  },
  {
   "cell_type": "code",
   "execution_count": 12,
   "metadata": {},
   "outputs": [
    {
     "name": "stdout",
     "output_type": "stream",
     "text": [
      "The sample size is 35\n"
     ]
    }
   ],
   "source": [
    "np.random.seed(a)\n",
    "def meanfunc(num):\n",
    "    sumn = 0\n",
    "    for t in num:\n",
    "        sumn = sumn + t\n",
    "\n",
    "    avg = sumn / len(num)\n",
    "    return avg\n",
    "def find_val():\n",
    "    samp_sizes = range(10, 300)\n",
    "    estimates = 100\n",
    "    # 10, 30, . .. 1000 \n",
    "    # Initialize an empty dictionary which maps sample sizes to arrays of sample means\n",
    "    sample_means = {new_list: [] for new_list in samp_sizes}\n",
    "    for ss in samp_sizes:\n",
    "        # 1, 2, 3 . . . 110 \n",
    "        for estimate in range(estimates): \n",
    "            sample = np.random.normal(loc = mean, scale = stdev, size = (ss))\n",
    "            sample_means[ss].append(round(sample.mean(), 4))\n",
    "    count = 0\n",
    "    for sample_size, samples in sample_means.items(): \n",
    "        results = []\n",
    "        for s_mu in samples:\n",
    "            if s_mu < 81.489 and s_mu > 61.4389: \n",
    "                results.append(s_mu)\n",
    "                if (count == 110):\n",
    "                    print(f\"The sample size is {sample_size}\")\n",
    "                    return\n",
    "                else: \n",
    "                    count+=1 \n",
    "            else: \n",
    "                break\n",
    "find_val()"
   ]
  },
  {
   "cell_type": "markdown",
   "metadata": {},
   "source": [
    "When we have 35 trials, the sample mean is within the desired range. Considering that the central limit theorem is traditionally used when we have at least 30 trials, this is reasonable. "
   ]
  },
  {
   "cell_type": "markdown",
   "metadata": {},
   "source": [
    "**The recommended $n*$ is 35**"
   ]
  },
  {
   "cell_type": "markdown",
   "metadata": {},
   "source": [
    "### Estimation for $p$"
   ]
  },
  {
   "cell_type": "code",
   "execution_count": null,
   "metadata": {},
   "outputs": [],
   "source": []
  },
  {
   "cell_type": "code",
   "execution_count": null,
   "metadata": {},
   "outputs": [],
   "source": []
  },
  {
   "cell_type": "markdown",
   "metadata": {},
   "source": [
    "## Section 5.2"
   ]
  },
  {
   "cell_type": "code",
   "execution_count": null,
   "metadata": {},
   "outputs": [],
   "source": []
  }
 ],
 "metadata": {
  "hide_input": false,
  "kernelspec": {
   "display_name": "Python 3",
   "language": "python",
   "name": "python3"
  },
  "language_info": {
   "codemirror_mode": {
    "name": "ipython",
    "version": 3
   },
   "file_extension": ".py",
   "mimetype": "text/x-python",
   "name": "python",
   "nbconvert_exporter": "python",
   "pygments_lexer": "ipython3",
   "version": "3.8.3"
  },
  "toc": {
   "base_numbering": 1,
   "nav_menu": {},
   "number_sections": false,
   "sideBar": true,
   "skip_h1_title": false,
   "title_cell": "Table of Contents",
   "title_sidebar": "Contents",
   "toc_cell": false,
   "toc_position": {
    "height": "calc(100% - 180px)",
    "left": "10px",
    "top": "150px",
    "width": "288px"
   },
   "toc_section_display": true,
   "toc_window_display": true
  },
  "varInspector": {
   "cols": {
    "lenName": 16,
    "lenType": 16,
    "lenVar": 40
   },
   "kernels_config": {
    "python": {
     "delete_cmd_postfix": "",
     "delete_cmd_prefix": "del ",
     "library": "var_list.py",
     "varRefreshCmd": "print(var_dic_list())"
    },
    "r": {
     "delete_cmd_postfix": ") ",
     "delete_cmd_prefix": "rm(",
     "library": "var_list.r",
     "varRefreshCmd": "cat(var_dic_list()) "
    }
   },
   "types_to_exclude": [
    "module",
    "function",
    "builtin_function_or_method",
    "instance",
    "_Feature"
   ],
   "window_display": false
  }
 },
 "nbformat": 4,
 "nbformat_minor": 4
}
