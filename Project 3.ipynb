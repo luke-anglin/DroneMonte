{
 "cells": [
  {
   "cell_type": "markdown",
   "metadata": {},
   "source": [
    "# Drones!"
   ]
  },
  {
   "cell_type": "markdown",
   "metadata": {
    "heading_collapsed": true
   },
   "source": [
    "## Section 3"
   ]
  },
  {
   "cell_type": "markdown",
   "metadata": {
    "hidden": true,
    "slideshow": {
     "slide_type": "fragment"
    }
   },
   "source": [
    "### Graph Function $f_x$"
   ]
  },
  {
   "cell_type": "markdown",
   "metadata": {
    "hidden": true
   },
   "source": [
    "$f_x(x) = \\alpha^2xe^{\\frac{-1}{2}\\alpha^2x^2}$, only when $x > 0$"
   ]
  },
  {
   "cell_type": "markdown",
   "metadata": {
    "hidden": true
   },
   "source": [
    "Additionally, we know that $\\alpha = \\frac{1}{\\tau}$ and $\\tau = 57$ inches."
   ]
  },
  {
   "cell_type": "code",
   "execution_count": 5,
   "metadata": {
    "hidden": true
   },
   "outputs": [
    {
     "name": "stdout",
     "output_type": "stream",
     "text": [
      "In decimal form, alpha is equal to 0.017543859649122806\n"
     ]
    }
   ],
   "source": [
    "tau = 57\n",
    "alpha = 1/tau\n",
    "print(f\"In decimal form, alpha is equal to {alpha}\")"
   ]
  },
  {
   "cell_type": "markdown",
   "metadata": {
    "hidden": true
   },
   "source": [
    "That is all we need in order to graph $f_x$ and $F_x$"
   ]
  },
  {
   "cell_type": "markdown",
   "metadata": {
    "hidden": true
   },
   "source": [
    "![PDF of x](assets/fofx.png)"
   ]
  },
  {
   "cell_type": "markdown",
   "metadata": {
    "hidden": true
   },
   "source": [
    "Obviously, this continues for a while, a slow sloping line. "
   ]
  },
  {
   "cell_type": "markdown",
   "metadata": {
    "hidden": true
   },
   "source": [
    "### Graph Function $F_x$"
   ]
  },
  {
   "cell_type": "markdown",
   "metadata": {
    "hidden": true
   },
   "source": [
    "![bigfofx](assets/bigfofx.png)"
   ]
  },
  {
   "cell_type": "markdown",
   "metadata": {
    "hidden": true
   },
   "source": [
    "This looks similar to the graph of $f_x$, and goes on for quite a while!"
   ]
  },
  {
   "cell_type": "markdown",
   "metadata": {
    "hidden": true
   },
   "source": [
    "### Graph Three Circles"
   ]
  },
  {
   "cell_type": "markdown",
   "metadata": {
    "hidden": true
   },
   "source": [
    "These were solved by graphing, setting $F_x = 0.5, 0.7, 0.9$ respectively. \n",
    "\n",
    "$$\n",
    "P[X <= 67.112] = 0.5 \\\\ \n",
    "P[X <= 88.45] = 0.7 \\\\ \n",
    "P[X <= 122.32] = 0.9 \\\\ \n",
    "$$"
   ]
  },
  {
   "cell_type": "markdown",
   "metadata": {
    "hidden": true
   },
   "source": [
    "From left to right: "
   ]
  },
  {
   "cell_type": "markdown",
   "metadata": {
    "hidden": true
   },
   "source": [
    "![circle_fun](assets/circle_fun.png)"
   ]
  },
  {
   "cell_type": "markdown",
   "metadata": {},
   "source": [
    "## Section 4.2"
   ]
  },
  {
   "cell_type": "markdown",
   "metadata": {},
   "source": [
    "### Random Number Generator - $u_{51}, u_{52}, u_{53}$"
   ]
  },
  {
   "cell_type": "code",
   "execution_count": 6,
   "metadata": {
    "code_folding": []
   },
   "outputs": [],
   "source": [
    "import numpy as np\n",
    "import sys\n",
    "import pprint as pprint\n",
    "from numpy.random import normal\n",
    "from matplotlib import pyplot\n",
    "pyplot.style.use('seaborn')\n",
    "# Parameters\n",
    "mean = (1/alpha)*(np.sqrt(np.pi/2))\n",
    "stdev = np.sqrt((4-np.pi)/(2*pow(alpha,2)))\n",
    "\n",
    "# Increase rec limit\n",
    "sys.setrecursionlimit(10000)\n",
    "# Define params\n",
    "a = 24693\n",
    "c = 3967\n",
    "K = pow(2, 18)\n",
    "n = 1000\n",
    "\n",
    "# Write recursive function\n",
    "\n",
    "\n",
    "def rng(x):\n",
    "    # Check if this is the seed\n",
    "    if (x == 0):\n",
    "        return 1000\n",
    "\n",
    "    else:\n",
    "        return (a * rng(x-1) + c) % K"
   ]
  },
  {
   "cell_type": "markdown",
   "metadata": {},
   "source": [
    "Therefore, I used Python to compute: \n",
    "\n",
    "$$\n",
    "u_{51} = 0.19949722290039062 \\\\\n",
    "u_{52} = 0.2000579833984375 \\\\\n",
    "u_{53} = 0.046916961669921875\n",
    "$$ "
   ]
  },
  {
   "cell_type": "markdown",
   "metadata": {},
   "source": [
    "### Estimates of $m_n$"
   ]
  },
  {
   "cell_type": "code",
   "execution_count": 28,
   "metadata": {
    "code_folding": []
   },
   "outputs": [
    {
     "ename": "AttributeError",
     "evalue": "module 'seaborn' has no attribute 'xlabel'",
     "output_type": "error",
     "traceback": [
      "\u001b[0;31m---------------------------------------------------------------------------\u001b[0m",
      "\u001b[0;31mAttributeError\u001b[0m                            Traceback (most recent call last)",
      "\u001b[0;32m<ipython-input-28-f868576911e9>\u001b[0m in \u001b[0;36m<module>\u001b[0;34m\u001b[0m\n\u001b[1;32m     22\u001b[0m \u001b[0my2\u001b[0m \u001b[0;34m=\u001b[0m \u001b[0;34m[\u001b[0m\u001b[0mmean\u001b[0m\u001b[0;34m]\u001b[0m \u001b[0;34m*\u001b[0m \u001b[0mlen\u001b[0m\u001b[0;34m(\u001b[0m\u001b[0mx2\u001b[0m\u001b[0;34m)\u001b[0m\u001b[0;34m\u001b[0m\u001b[0;34m\u001b[0m\u001b[0m\n\u001b[1;32m     23\u001b[0m \u001b[0msns\u001b[0m\u001b[0;34m.\u001b[0m\u001b[0mlineplot\u001b[0m\u001b[0;34m(\u001b[0m\u001b[0mx\u001b[0m\u001b[0;34m=\u001b[0m\u001b[0mx2\u001b[0m\u001b[0;34m,\u001b[0m \u001b[0my\u001b[0m\u001b[0;34m=\u001b[0m\u001b[0my2\u001b[0m\u001b[0;34m)\u001b[0m\u001b[0;34m\u001b[0m\u001b[0;34m\u001b[0m\u001b[0m\n\u001b[0;32m---> 24\u001b[0;31m \u001b[0msns\u001b[0m\u001b[0;34m.\u001b[0m\u001b[0mxlabel\u001b[0m\u001b[0;34m(\u001b[0m\u001b[0;34m\"hi\"\u001b[0m\u001b[0;34m)\u001b[0m\u001b[0;34m\u001b[0m\u001b[0;34m\u001b[0m\u001b[0m\n\u001b[0m",
      "\u001b[0;31mAttributeError\u001b[0m: module 'seaborn' has no attribute 'xlabel'"
     ]
    },
    {
     "data": {
      "image/png": "[encoded data removed]",
      "text/plain": [
       "<Figure size 576x396 with 1 Axes>"
      ]
     },
     "metadata": {},
     "output_type": "display_data"
    }
   ],
   "source": [
    "runs = [10, 30, 50,100, 250, 500, 1000]\n",
    "import seaborn as sns \n",
    "\n",
    "def calc_means(samp_sizes, estimates):\n",
    "    # 10, 30, . .. 1000 \n",
    "    # Initialize an empty dictionary which maps sample sizes to arrays of sample means\n",
    "    sample_means = {new_list: [] for new_list in samp_sizes}\n",
    "    for ss in samp_sizes:\n",
    "        # 1, 2, 3 . . . 110 \n",
    "        for estimate in range(estimates): \n",
    "            sample = np.random.normal(loc = mean, scale = stdev, size = (ss))\n",
    "            sample_means[ss].append(round(sample.mean(), 4))\n",
    "    return sample_means\n",
    "\n",
    "# Holds our dict containing sample means \n",
    "data = calc_means(runs, 110)\n",
    "# Plot the data\n",
    "for ss, s_mu in data.items(): \n",
    "    sns.scatterplot(x=ss, y=s_mu)\n",
    "# Plot a line ux  \n",
    "x2 = np.linspace(0, 1000, 10000)\n",
    "y2 = [mean] * len(x2) \n",
    "sns.lineplot(x=x2, y=y2)\n",
    "sns.xlabel(\"hi\")"
   ]
  },
  {
   "cell_type": "markdown",
   "metadata": {
    "code_folding": []
   },
   "source": [
    "### More graphs showing Variance "
   ]
  },
  {
   "cell_type": "code",
   "execution_count": 47,
   "metadata": {
    "code_folding": [],
    "scrolled": true
   },
   "outputs": [
    {
     "data": {
      "image/png": "[encoded data removed]",
      "text/plain": [
       "<Figure size 576x396 with 7 Axes>"
      ]
     },
     "metadata": {},
     "output_type": "display_data"
    }
   ],
   "source": [
    "for run in range(len(runs)):\n",
    "\tsample = normal(mean, stdev, runs[run])\n",
    "\tpyplot.subplot(2, 4, run+1)\n",
    "\tpyplot.hist(sample, bins=20)\n",
    "\tpyplot.title('%d Samples' % runs[run])\n",
    "\tpyplot.xticks([])\n",
    "pyplot.show()"
   ]
  },
  {
   "cell_type": "markdown",
   "metadata": {},
   "source": [
    "## Section 5.2"
   ]
  },
  {
   "cell_type": "code",
   "execution_count": null,
   "metadata": {},
   "outputs": [],
   "source": []
  }
 ],
 "metadata": {
  "hide_input": false,
  "kernelspec": {
   "display_name": "Python 3",
   "language": "python",
   "name": "python3"
  },
  "language_info": {
   "codemirror_mode": {
    "name": "ipython",
    "version": 3
   },
   "file_extension": ".py",
   "mimetype": "text/x-python",
   "name": "python",
   "nbconvert_exporter": "python",
   "pygments_lexer": "ipython3",
   "version": "3.8.3"
  },
  "toc": {
   "base_numbering": 1,
   "nav_menu": {},
   "number_sections": false,
   "sideBar": true,
   "skip_h1_title": false,
   "title_cell": "Table of Contents",
   "title_sidebar": "Contents",
   "toc_cell": false,
   "toc_position": {
    "height": "calc(100% - 180px)",
    "left": "10px",
    "top": "150px",
    "width": "288px"
   },
   "toc_section_display": true,
   "toc_window_display": false
  },
  "varInspector": {
   "cols": {
    "lenName": 16,
    "lenType": 16,
    "lenVar": 40
   },
   "kernels_config": {
    "python": {
     "delete_cmd_postfix": "",
     "delete_cmd_prefix": "del ",
     "library": "var_list.py",
     "varRefreshCmd": "print(var_dic_list())"
    },
    "r": {
     "delete_cmd_postfix": ") ",
     "delete_cmd_prefix": "rm(",
     "library": "var_list.r",
     "varRefreshCmd": "cat(var_dic_list()) "
    }
   },
   "types_to_exclude": [
    "module",
    "function",
    "builtin_function_or_method",
    "instance",
    "_Feature"
   ],
   "window_display": false
  }
 },
 "nbformat": 4,
 "nbformat_minor": 4
}
